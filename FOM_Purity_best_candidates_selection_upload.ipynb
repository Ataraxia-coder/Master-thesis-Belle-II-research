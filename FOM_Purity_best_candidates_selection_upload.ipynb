{
 "cells": [
  {
   "cell_type": "code",
   "execution_count": 2,
   "id": "fc88de3d",
   "metadata": {},
   "outputs": [
    {
     "name": "stdout",
     "output_type": "stream",
     "text": [
      "Welcome to JupyROOT 6.24/00\n"
     ]
    }
   ],
   "source": [
    "#import wg1template\n",
    "import numpy as np\n",
    "import scipy.stats\n",
    "import matplotlib.pyplot as plt\n",
    "\n",
    "import wg1template.histogram_plots as wg1\n",
    "import wg1template.point_plots as points\n",
    "from wg1template.plot_style import TangoColors\n",
    "from wg1template.plot_utilities import export\n",
    "\n",
    "import pandas as pd\n",
    "from root_pandas import read_root\n",
    "import math"
   ]
  },
  {
   "cell_type": "code",
   "execution_count": 4,
   "id": "7618c61f",
   "metadata": {},
   "outputs": [],
   "source": [
    "sig = read_root('merged_1000_final_sig.root')\n",
    "#uu = read_root('merged_1000_final_uu.root')\n",
    "#dd = read_root('merged_1000_final_dd.root')\n",
    "#ss = read_root('merged_1000_final_ss.root')\n",
    "#cc = read_root('merged_1000_final_cc.root')\n",
    "#charged = read_root('merged_1000_final_charged.root')\n",
    "#mixed = read_root('merged_1000_final_mixed.root')"
   ]
  },
  {
   "cell_type": "code",
   "execution_count": 6,
   "id": "f21b0272",
   "metadata": {},
   "outputs": [
    {
     "data": {
      "text/plain": [
       "1.0    4663\n",
       "0.0     119\n",
       "Name: Bsig_d0_isSignal, dtype: int64"
      ]
     },
     "execution_count": 6,
     "metadata": {},
     "output_type": "execute_result"
    }
   ],
   "source": [
    "sig['Bsig_d0_isSignal'].value_counts()"
   ]
  },
  {
   "cell_type": "code",
   "execution_count": 7,
   "id": "d8399240",
   "metadata": {},
   "outputs": [
    {
     "data": {
      "text/plain": [
       "1.0    7080\n",
       "0.0    2005\n",
       "Name: Bsig_d0_isSignal, dtype: int64"
      ]
     },
     "execution_count": 7,
     "metadata": {},
     "output_type": "execute_result"
    }
   ],
   "source": [
    "sig_nokaon['Bsig_d0_isSignal'].value_counts()"
   ]
  },
  {
   "cell_type": "code",
   "execution_count": 14,
   "id": "f7723b09",
   "metadata": {},
   "outputs": [
    {
     "data": {
      "text/plain": [
       "1.0    4663\n",
       "0.0     119\n",
       "Name: Bsig_d0_isSignalAcceptMissingNeutrino, dtype: int64"
      ]
     },
     "execution_count": 14,
     "metadata": {},
     "output_type": "execute_result"
    }
   ],
   "source": [
    "sig['Bsig_d0_isSignalAcceptMissingNeutrino'].value_counts()"
   ]
  },
  {
   "cell_type": "code",
   "execution_count": 15,
   "id": "ab6fcda0",
   "metadata": {},
   "outputs": [
    {
     "data": {
      "text/plain": [
       "1.0    4663\n",
       "0.0     119\n",
       "Name: Bsig_d0_isSignalAcceptMissingGamma, dtype: int64"
      ]
     },
     "execution_count": 15,
     "metadata": {},
     "output_type": "execute_result"
    }
   ],
   "source": [
    "sig['Bsig_d0_isSignalAcceptMissingGamma'].value_counts()"
   ]
  },
  {
   "cell_type": "code",
   "execution_count": 4,
   "id": "e1d0a2c5",
   "metadata": {},
   "outputs": [],
   "source": [
    "features = ['isNotContinuumEvent','Bsig_d0_isSignal', 'Btag_d1_isSignal', 'Bsig_d0_missingEnergyOfEventCMS', 'Bsig_d0_roeE',\n",
    "           'Btag_d1_roeEextra_cleanMask', 'Btag_d1_Mbc',  'roeEextra__bo__bc','nROE_Tracks__bo__bc','roeP__bo__bc', \n",
    "           'roeNeextra__bo__bc', 'Bsig_d0_R2' , 'Bsig_d0_thrustOm' ,'Bsig_d0_cosTBTO',\n",
    " 'Bsig_d0_cosTBz', 'Bsig_d0_KSFWVariables_hso00',\n",
    " 'Bsig_d0_KSFWVariables_hso01', 'Bsig_d0_KSFWVariables_hso02',\n",
    " 'Bsig_d0_KSFWVariables_hso03','Bsig_d0_KSFWVariables_hso04',\n",
    " 'Bsig_d0_KSFWVariables_hso10', 'Bsig_d0_KSFWVariables_hso12',\n",
    " 'Bsig_d0_KSFWVariables_hso14' ,'Bsig_d0_KSFWVariables_hso20',\n",
    " 'Bsig_d0_KSFWVariables_hso22', 'Bsig_d0_KSFWVariables_hso24',\n",
    " 'Bsig_d0_KSFWVariables_hoo0' ,'Bsig_d0_KSFWVariables_hoo1',\n",
    " 'Bsig_d0_KSFWVariables_hoo2' ,'Bsig_d0_KSFWVariables_hoo3',\n",
    " 'Bsig_d0_KSFWVariables_hoo4'  ,  'Btag_FEIProbabilityRank'\n",
    "]"
   ]
  },
  {
   "cell_type": "code",
   "execution_count": 5,
   "id": "c9b5c1fd",
   "metadata": {},
   "outputs": [
    {
     "data": {
      "text/plain": [
       "['isNotContinuumEvent',\n",
       " 'Bsig_d0_isSignal',\n",
       " 'Btag_d1_isSignal',\n",
       " 'Bsig_d0_missingEnergyOfEventCMS',\n",
       " 'Bsig_d0_roeE',\n",
       " 'Btag_d1_roeEextra_cleanMask',\n",
       " 'Btag_d1_Mbc',\n",
       " 'roeEextra__bo__bc',\n",
       " 'nROE_Tracks__bo__bc',\n",
       " 'roeP__bo__bc',\n",
       " 'roeNeextra__bo__bc',\n",
       " 'Bsig_d0_R2',\n",
       " 'Bsig_d0_thrustOm',\n",
       " 'Bsig_d0_cosTBTO',\n",
       " 'Bsig_d0_cosTBz',\n",
       " 'Bsig_d0_KSFWVariables_hso00',\n",
       " 'Bsig_d0_KSFWVariables_hso01',\n",
       " 'Bsig_d0_KSFWVariables_hso02',\n",
       " 'Bsig_d0_KSFWVariables_hso03',\n",
       " 'Bsig_d0_KSFWVariables_hso04',\n",
       " 'Bsig_d0_KSFWVariables_hso10',\n",
       " 'Bsig_d0_KSFWVariables_hso12',\n",
       " 'Bsig_d0_KSFWVariables_hso14',\n",
       " 'Bsig_d0_KSFWVariables_hso20',\n",
       " 'Bsig_d0_KSFWVariables_hso22',\n",
       " 'Bsig_d0_KSFWVariables_hso24',\n",
       " 'Bsig_d0_KSFWVariables_hoo0',\n",
       " 'Bsig_d0_KSFWVariables_hoo1',\n",
       " 'Bsig_d0_KSFWVariables_hoo2',\n",
       " 'Bsig_d0_KSFWVariables_hoo3',\n",
       " 'Bsig_d0_KSFWVariables_hoo4',\n",
       " 'Btag_FEIProbabilityRank']"
      ]
     },
     "execution_count": 5,
     "metadata": {},
     "output_type": "execute_result"
    }
   ],
   "source": [
    "features"
   ]
  },
  {
   "cell_type": "code",
   "execution_count": 8,
   "id": "a68f909e",
   "metadata": {},
   "outputs": [],
   "source": [
    "frames = [uu, dd, ss, cc, charged, mixed]\n",
    "bkg = pd.concat(frames, keys=['uu', 'dd', 'ss', 'cc', 'charged', 'mixed'])"
   ]
  },
  {
   "cell_type": "code",
   "execution_count": 14,
   "id": "4971374a",
   "metadata": {},
   "outputs": [],
   "source": [
    "av_groupSize_sig=4662/2677  # before cut"
   ]
  },
  {
   "cell_type": "code",
   "execution_count": 15,
   "id": "ea716ae6",
   "metadata": {},
   "outputs": [
    {
     "data": {
      "text/plain": [
       "4834"
      ]
     },
     "execution_count": 15,
     "metadata": {},
     "output_type": "execute_result"
    }
   ],
   "source": [
    "len(sig)"
   ]
  },
  {
   "cell_type": "code",
   "execution_count": 16,
   "id": "6bf47158",
   "metadata": {},
   "outputs": [
    {
     "data": {
      "text/plain": [
       "5307608"
      ]
     },
     "execution_count": 16,
     "metadata": {},
     "output_type": "execute_result"
    }
   ],
   "source": [
    "len(bkg)"
   ]
  },
  {
   "cell_type": "code",
   "execution_count": 17,
   "id": "dd9b7d23",
   "metadata": {},
   "outputs": [],
   "source": [
    "############################################################################\n",
    "############################################################################\n",
    "# Figure of merit"
   ]
  },
  {
   "cell_type": "code",
   "execution_count": 18,
   "id": "fb706c31",
   "metadata": {},
   "outputs": [],
   "source": [
    "sig_cut = sig.query(\"Bsig_d0_missingEnergyOfEventCMS > 1.85 & Bsig_d0_roeE< 8.0\")\n",
    "bkg_cut = bkg.query(\"Bsig_d0_missingEnergyOfEventCMS > 1.85 & Bsig_d0_roeE< 8.0\")"
   ]
  },
  {
   "cell_type": "code",
   "execution_count": 19,
   "id": "919d1fe2",
   "metadata": {},
   "outputs": [
    {
     "data": {
      "text/plain": [
       "4609"
      ]
     },
     "execution_count": 19,
     "metadata": {},
     "output_type": "execute_result"
    }
   ],
   "source": [
    "len(sig_cut)"
   ]
  },
  {
   "cell_type": "code",
   "execution_count": 20,
   "id": "06ba3ade",
   "metadata": {},
   "outputs": [
    {
     "data": {
      "text/plain": [
       "72886"
      ]
     },
     "execution_count": 20,
     "metadata": {},
     "output_type": "execute_result"
    }
   ],
   "source": [
    "len(bkg_cut) "
   ]
  },
  {
   "cell_type": "code",
   "execution_count": 21,
   "id": "9a806f74",
   "metadata": {},
   "outputs": [
    {
     "data": {
      "text/plain": [
       "269.9740728292256"
      ]
     },
     "execution_count": 21,
     "metadata": {},
     "output_type": "execute_result"
    }
   ],
   "source": [
    "math.sqrt(len(bkg_cut))"
   ]
  },
  {
   "cell_type": "code",
   "execution_count": 23,
   "id": "072e3a88",
   "metadata": {},
   "outputs": [
    {
     "data": {
      "text/plain": [
       "1.0    4663\n",
       "0.0     119\n",
       "Name: Bsig_d0_isSignal, dtype: int64"
      ]
     },
     "execution_count": 23,
     "metadata": {},
     "output_type": "execute_result"
    }
   ],
   "source": [
    "sig['Bsig_d0_isSignal'].value_counts()"
   ]
  },
  {
   "cell_type": "code",
   "execution_count": 24,
   "id": "a8628331",
   "metadata": {},
   "outputs": [
    {
     "data": {
      "text/plain": [
       "0.0    2409\n",
       "1.0    1420\n",
       "Name: Btag_d1_isSignal, dtype: int64"
      ]
     },
     "execution_count": 24,
     "metadata": {},
     "output_type": "execute_result"
    }
   ],
   "source": [
    "sig['Btag_d1_isSignal'].value_counts() "
   ]
  },
  {
   "cell_type": "code",
   "execution_count": 25,
   "id": "ea57c848",
   "metadata": {},
   "outputs": [
    {
     "data": {
      "text/html": [
       "<div>\n",
       "<style scoped>\n",
       "    .dataframe tbody tr th:only-of-type {\n",
       "        vertical-align: middle;\n",
       "    }\n",
       "\n",
       "    .dataframe tbody tr th {\n",
       "        vertical-align: top;\n",
       "    }\n",
       "\n",
       "    .dataframe thead th {\n",
       "        text-align: right;\n",
       "    }\n",
       "</style>\n",
       "<table border=\"1\" class=\"dataframe\">\n",
       "  <thead>\n",
       "    <tr style=\"text-align: right;\">\n",
       "      <th></th>\n",
       "      <th>__experiment__</th>\n",
       "      <th>__run__</th>\n",
       "      <th>__event__</th>\n",
       "      <th>__candidate__</th>\n",
       "      <th>__ncandidates__</th>\n",
       "      <th>__weight__</th>\n",
       "      <th>M</th>\n",
       "      <th>Mbc</th>\n",
       "      <th>E</th>\n",
       "      <th>p</th>\n",
       "      <th>...</th>\n",
       "      <th>Bsig_d0_roeP_cleanMask</th>\n",
       "      <th>Bsig_d0_roeMbc_cleanMask</th>\n",
       "      <th>Bsig_d0_roeDeltae_cleanMask</th>\n",
       "      <th>Bsig_d0_roeEextra_cleanMask</th>\n",
       "      <th>Bsig_d0_roeNeextra_cleanMask</th>\n",
       "      <th>Bsig_d0_nROE_Tracks_cleanMask</th>\n",
       "      <th>Bsig_d0_nROE_Charged_cleanMask</th>\n",
       "      <th>Bsig_d0_nROE_ECLClusters_cleanMask</th>\n",
       "      <th>Btag_FEIProbabilityRank</th>\n",
       "      <th>nParticlesInList__boUpsilon__bo4S__bc__claftercut__bc</th>\n",
       "    </tr>\n",
       "  </thead>\n",
       "  <tbody>\n",
       "    <tr>\n",
       "      <th>0</th>\n",
       "      <td>1003</td>\n",
       "      <td>0</td>\n",
       "      <td>8478042</td>\n",
       "      <td>0</td>\n",
       "      <td>1</td>\n",
       "      <td>1.0</td>\n",
       "      <td>7.054829</td>\n",
       "      <td>4.794375</td>\n",
       "      <td>7.382884</td>\n",
       "      <td>2.176320</td>\n",
       "      <td>...</td>\n",
       "      <td>1.796264</td>\n",
       "      <td>5.277451</td>\n",
       "      <td>-0.193478</td>\n",
       "      <td>2.237117</td>\n",
       "      <td>0.887408</td>\n",
       "      <td>4.0</td>\n",
       "      <td>4.0</td>\n",
       "      <td>9.0</td>\n",
       "      <td>1.0</td>\n",
       "      <td>1.0</td>\n",
       "    </tr>\n",
       "    <tr>\n",
       "      <th>14</th>\n",
       "      <td>1003</td>\n",
       "      <td>0</td>\n",
       "      <td>40032059</td>\n",
       "      <td>0</td>\n",
       "      <td>2</td>\n",
       "      <td>1.0</td>\n",
       "      <td>6.157901</td>\n",
       "      <td>5.152761</td>\n",
       "      <td>6.818574</td>\n",
       "      <td>2.928004</td>\n",
       "      <td>...</td>\n",
       "      <td>2.473771</td>\n",
       "      <td>5.243523</td>\n",
       "      <td>0.981722</td>\n",
       "      <td>3.053541</td>\n",
       "      <td>1.407113</td>\n",
       "      <td>7.0</td>\n",
       "      <td>7.0</td>\n",
       "      <td>17.0</td>\n",
       "      <td>1.0</td>\n",
       "      <td>2.0</td>\n",
       "    </tr>\n",
       "    <tr>\n",
       "      <th>18</th>\n",
       "      <td>1003</td>\n",
       "      <td>0</td>\n",
       "      <td>40032336</td>\n",
       "      <td>0</td>\n",
       "      <td>4</td>\n",
       "      <td>1.0</td>\n",
       "      <td>7.123269</td>\n",
       "      <td>5.044690</td>\n",
       "      <td>7.820981</td>\n",
       "      <td>3.229052</td>\n",
       "      <td>...</td>\n",
       "      <td>2.041596</td>\n",
       "      <td>5.211949</td>\n",
       "      <td>-1.114069</td>\n",
       "      <td>3.608629</td>\n",
       "      <td>2.543791</td>\n",
       "      <td>3.0</td>\n",
       "      <td>3.0</td>\n",
       "      <td>8.0</td>\n",
       "      <td>1.0</td>\n",
       "      <td>4.0</td>\n",
       "    </tr>\n",
       "    <tr>\n",
       "      <th>26</th>\n",
       "      <td>1003</td>\n",
       "      <td>0</td>\n",
       "      <td>40032688</td>\n",
       "      <td>0</td>\n",
       "      <td>1</td>\n",
       "      <td>1.0</td>\n",
       "      <td>7.455272</td>\n",
       "      <td>4.838185</td>\n",
       "      <td>8.023853</td>\n",
       "      <td>2.966672</td>\n",
       "      <td>...</td>\n",
       "      <td>1.539355</td>\n",
       "      <td>5.280614</td>\n",
       "      <td>0.046767</td>\n",
       "      <td>2.473498</td>\n",
       "      <td>1.431109</td>\n",
       "      <td>3.0</td>\n",
       "      <td>3.0</td>\n",
       "      <td>8.0</td>\n",
       "      <td>1.0</td>\n",
       "      <td>1.0</td>\n",
       "    </tr>\n",
       "    <tr>\n",
       "      <th>29</th>\n",
       "      <td>1003</td>\n",
       "      <td>0</td>\n",
       "      <td>40032987</td>\n",
       "      <td>0</td>\n",
       "      <td>1</td>\n",
       "      <td>1.0</td>\n",
       "      <td>6.824325</td>\n",
       "      <td>5.049837</td>\n",
       "      <td>7.509714</td>\n",
       "      <td>3.134388</td>\n",
       "      <td>...</td>\n",
       "      <td>1.564553</td>\n",
       "      <td>5.282376</td>\n",
       "      <td>0.004905</td>\n",
       "      <td>3.521116</td>\n",
       "      <td>2.521630</td>\n",
       "      <td>4.0</td>\n",
       "      <td>4.0</td>\n",
       "      <td>10.0</td>\n",
       "      <td>1.0</td>\n",
       "      <td>1.0</td>\n",
       "    </tr>\n",
       "    <tr>\n",
       "      <th>...</th>\n",
       "      <td>...</td>\n",
       "      <td>...</td>\n",
       "      <td>...</td>\n",
       "      <td>...</td>\n",
       "      <td>...</td>\n",
       "      <td>...</td>\n",
       "      <td>...</td>\n",
       "      <td>...</td>\n",
       "      <td>...</td>\n",
       "      <td>...</td>\n",
       "      <td>...</td>\n",
       "      <td>...</td>\n",
       "      <td>...</td>\n",
       "      <td>...</td>\n",
       "      <td>...</td>\n",
       "      <td>...</td>\n",
       "      <td>...</td>\n",
       "      <td>...</td>\n",
       "      <td>...</td>\n",
       "      <td>...</td>\n",
       "      <td>...</td>\n",
       "    </tr>\n",
       "    <tr>\n",
       "      <th>4823</th>\n",
       "      <td>1003</td>\n",
       "      <td>0</td>\n",
       "      <td>7479015</td>\n",
       "      <td>0</td>\n",
       "      <td>1</td>\n",
       "      <td>1.0</td>\n",
       "      <td>6.853499</td>\n",
       "      <td>5.024840</td>\n",
       "      <td>7.667197</td>\n",
       "      <td>3.437363</td>\n",
       "      <td>...</td>\n",
       "      <td>1.383600</td>\n",
       "      <td>5.282322</td>\n",
       "      <td>-0.069097</td>\n",
       "      <td>2.515512</td>\n",
       "      <td>1.201945</td>\n",
       "      <td>5.0</td>\n",
       "      <td>5.0</td>\n",
       "      <td>7.0</td>\n",
       "      <td>1.0</td>\n",
       "      <td>1.0</td>\n",
       "    </tr>\n",
       "    <tr>\n",
       "      <th>4826</th>\n",
       "      <td>1003</td>\n",
       "      <td>0</td>\n",
       "      <td>7479542</td>\n",
       "      <td>0</td>\n",
       "      <td>1</td>\n",
       "      <td>1.0</td>\n",
       "      <td>7.238847</td>\n",
       "      <td>4.682410</td>\n",
       "      <td>7.869653</td>\n",
       "      <td>3.087157</td>\n",
       "      <td>...</td>\n",
       "      <td>1.502302</td>\n",
       "      <td>5.275452</td>\n",
       "      <td>0.200405</td>\n",
       "      <td>1.986653</td>\n",
       "      <td>0.363472</td>\n",
       "      <td>7.0</td>\n",
       "      <td>7.0</td>\n",
       "      <td>10.0</td>\n",
       "      <td>1.0</td>\n",
       "      <td>1.0</td>\n",
       "    </tr>\n",
       "    <tr>\n",
       "      <th>4827</th>\n",
       "      <td>1003</td>\n",
       "      <td>0</td>\n",
       "      <td>7479668</td>\n",
       "      <td>0</td>\n",
       "      <td>1</td>\n",
       "      <td>1.0</td>\n",
       "      <td>7.012412</td>\n",
       "      <td>5.077011</td>\n",
       "      <td>7.679429</td>\n",
       "      <td>3.130448</td>\n",
       "      <td>...</td>\n",
       "      <td>0.622766</td>\n",
       "      <td>5.122232</td>\n",
       "      <td>-1.424104</td>\n",
       "      <td>3.172875</td>\n",
       "      <td>1.535237</td>\n",
       "      <td>4.0</td>\n",
       "      <td>4.0</td>\n",
       "      <td>12.0</td>\n",
       "      <td>1.0</td>\n",
       "      <td>1.0</td>\n",
       "    </tr>\n",
       "    <tr>\n",
       "      <th>4828</th>\n",
       "      <td>1003</td>\n",
       "      <td>0</td>\n",
       "      <td>7479684</td>\n",
       "      <td>0</td>\n",
       "      <td>1</td>\n",
       "      <td>1.0</td>\n",
       "      <td>6.724295</td>\n",
       "      <td>5.037837</td>\n",
       "      <td>7.071847</td>\n",
       "      <td>2.189722</td>\n",
       "      <td>...</td>\n",
       "      <td>1.583627</td>\n",
       "      <td>5.289039</td>\n",
       "      <td>0.258387</td>\n",
       "      <td>3.143792</td>\n",
       "      <td>1.549474</td>\n",
       "      <td>7.0</td>\n",
       "      <td>7.0</td>\n",
       "      <td>14.0</td>\n",
       "      <td>1.0</td>\n",
       "      <td>1.0</td>\n",
       "    </tr>\n",
       "    <tr>\n",
       "      <th>4831</th>\n",
       "      <td>1003</td>\n",
       "      <td>0</td>\n",
       "      <td>7479908</td>\n",
       "      <td>0</td>\n",
       "      <td>3</td>\n",
       "      <td>1.0</td>\n",
       "      <td>7.650949</td>\n",
       "      <td>4.647685</td>\n",
       "      <td>8.743655</td>\n",
       "      <td>4.232550</td>\n",
       "      <td>...</td>\n",
       "      <td>1.759641</td>\n",
       "      <td>5.273781</td>\n",
       "      <td>0.022597</td>\n",
       "      <td>3.746920</td>\n",
       "      <td>3.321640</td>\n",
       "      <td>2.0</td>\n",
       "      <td>2.0</td>\n",
       "      <td>12.0</td>\n",
       "      <td>1.0</td>\n",
       "      <td>3.0</td>\n",
       "    </tr>\n",
       "  </tbody>\n",
       "</table>\n",
       "<p>1396 rows × 256 columns</p>\n",
       "</div>"
      ],
      "text/plain": [
       "      __experiment__  __run__  __event__  __candidate__  __ncandidates__  \\\n",
       "0               1003        0    8478042              0                1   \n",
       "14              1003        0   40032059              0                2   \n",
       "18              1003        0   40032336              0                4   \n",
       "26              1003        0   40032688              0                1   \n",
       "29              1003        0   40032987              0                1   \n",
       "...              ...      ...        ...            ...              ...   \n",
       "4823            1003        0    7479015              0                1   \n",
       "4826            1003        0    7479542              0                1   \n",
       "4827            1003        0    7479668              0                1   \n",
       "4828            1003        0    7479684              0                1   \n",
       "4831            1003        0    7479908              0                3   \n",
       "\n",
       "      __weight__         M       Mbc         E         p  ...  \\\n",
       "0            1.0  7.054829  4.794375  7.382884  2.176320  ...   \n",
       "14           1.0  6.157901  5.152761  6.818574  2.928004  ...   \n",
       "18           1.0  7.123269  5.044690  7.820981  3.229052  ...   \n",
       "26           1.0  7.455272  4.838185  8.023853  2.966672  ...   \n",
       "29           1.0  6.824325  5.049837  7.509714  3.134388  ...   \n",
       "...          ...       ...       ...       ...       ...  ...   \n",
       "4823         1.0  6.853499  5.024840  7.667197  3.437363  ...   \n",
       "4826         1.0  7.238847  4.682410  7.869653  3.087157  ...   \n",
       "4827         1.0  7.012412  5.077011  7.679429  3.130448  ...   \n",
       "4828         1.0  6.724295  5.037837  7.071847  2.189722  ...   \n",
       "4831         1.0  7.650949  4.647685  8.743655  4.232550  ...   \n",
       "\n",
       "      Bsig_d0_roeP_cleanMask  Bsig_d0_roeMbc_cleanMask  \\\n",
       "0                   1.796264                  5.277451   \n",
       "14                  2.473771                  5.243523   \n",
       "18                  2.041596                  5.211949   \n",
       "26                  1.539355                  5.280614   \n",
       "29                  1.564553                  5.282376   \n",
       "...                      ...                       ...   \n",
       "4823                1.383600                  5.282322   \n",
       "4826                1.502302                  5.275452   \n",
       "4827                0.622766                  5.122232   \n",
       "4828                1.583627                  5.289039   \n",
       "4831                1.759641                  5.273781   \n",
       "\n",
       "      Bsig_d0_roeDeltae_cleanMask  Bsig_d0_roeEextra_cleanMask  \\\n",
       "0                       -0.193478                     2.237117   \n",
       "14                       0.981722                     3.053541   \n",
       "18                      -1.114069                     3.608629   \n",
       "26                       0.046767                     2.473498   \n",
       "29                       0.004905                     3.521116   \n",
       "...                           ...                          ...   \n",
       "4823                    -0.069097                     2.515512   \n",
       "4826                     0.200405                     1.986653   \n",
       "4827                    -1.424104                     3.172875   \n",
       "4828                     0.258387                     3.143792   \n",
       "4831                     0.022597                     3.746920   \n",
       "\n",
       "      Bsig_d0_roeNeextra_cleanMask  Bsig_d0_nROE_Tracks_cleanMask  \\\n",
       "0                         0.887408                            4.0   \n",
       "14                        1.407113                            7.0   \n",
       "18                        2.543791                            3.0   \n",
       "26                        1.431109                            3.0   \n",
       "29                        2.521630                            4.0   \n",
       "...                            ...                            ...   \n",
       "4823                      1.201945                            5.0   \n",
       "4826                      0.363472                            7.0   \n",
       "4827                      1.535237                            4.0   \n",
       "4828                      1.549474                            7.0   \n",
       "4831                      3.321640                            2.0   \n",
       "\n",
       "      Bsig_d0_nROE_Charged_cleanMask  Bsig_d0_nROE_ECLClusters_cleanMask  \\\n",
       "0                                4.0                                 9.0   \n",
       "14                               7.0                                17.0   \n",
       "18                               3.0                                 8.0   \n",
       "26                               3.0                                 8.0   \n",
       "29                               4.0                                10.0   \n",
       "...                              ...                                 ...   \n",
       "4823                             5.0                                 7.0   \n",
       "4826                             7.0                                10.0   \n",
       "4827                             4.0                                12.0   \n",
       "4828                             7.0                                14.0   \n",
       "4831                             2.0                                12.0   \n",
       "\n",
       "      Btag_FEIProbabilityRank  \\\n",
       "0                         1.0   \n",
       "14                        1.0   \n",
       "18                        1.0   \n",
       "26                        1.0   \n",
       "29                        1.0   \n",
       "...                       ...   \n",
       "4823                      1.0   \n",
       "4826                      1.0   \n",
       "4827                      1.0   \n",
       "4828                      1.0   \n",
       "4831                      1.0   \n",
       "\n",
       "      nParticlesInList__boUpsilon__bo4S__bc__claftercut__bc  \n",
       "0                                                   1.0      \n",
       "14                                                  2.0      \n",
       "18                                                  4.0      \n",
       "26                                                  1.0      \n",
       "29                                                  1.0      \n",
       "...                                                 ...      \n",
       "4823                                                1.0      \n",
       "4826                                                1.0      \n",
       "4827                                                1.0      \n",
       "4828                                                1.0      \n",
       "4831                                                3.0      \n",
       "\n",
       "[1396 rows x 256 columns]"
      ]
     },
     "execution_count": 25,
     "metadata": {},
     "output_type": "execute_result"
    }
   ],
   "source": [
    "sig_both_1 = sig.query(\"Bsig_d0_isSignal > 0.5 & Btag_d1_isSignal > 0.5\")\n",
    "sig_both_1"
   ]
  },
  {
   "cell_type": "code",
   "execution_count": 26,
   "id": "93fd3d79",
   "metadata": {},
   "outputs": [
    {
     "data": {
      "text/plain": [
       "1396"
      ]
     },
     "execution_count": 26,
     "metadata": {},
     "output_type": "execute_result"
    }
   ],
   "source": [
    "len(sig_both_1)"
   ]
  },
  {
   "cell_type": "code",
   "execution_count": 27,
   "id": "50eab456",
   "metadata": {},
   "outputs": [
    {
     "data": {
      "text/plain": [
       "1.0    4508\n",
       "0.0      71\n",
       "Name: Bsig_d0_isSignal, dtype: int64"
      ]
     },
     "execution_count": 27,
     "metadata": {},
     "output_type": "execute_result"
    }
   ],
   "source": [
    "sig_cut['Bsig_d0_isSignal'].value_counts()"
   ]
  },
  {
   "cell_type": "code",
   "execution_count": 28,
   "id": "a8fd486b",
   "metadata": {},
   "outputs": [
    {
     "data": {
      "text/plain": [
       "0.0    2297\n",
       "1.0    1368\n",
       "Name: Btag_d1_isSignal, dtype: int64"
      ]
     },
     "execution_count": 28,
     "metadata": {},
     "output_type": "execute_result"
    }
   ],
   "source": [
    "sig_cut['Btag_d1_isSignal'].value_counts() "
   ]
  },
  {
   "cell_type": "code",
   "execution_count": 30,
   "id": "596f5b5a",
   "metadata": {},
   "outputs": [
    {
     "data": {
      "text/plain": [
       "0.1493767235850569"
      ]
     },
     "execution_count": 30,
     "metadata": {},
     "output_type": "execute_result"
    }
   ],
   "source": [
    "eff = 7453301 / (189000 * 264) # efficiency only considering signal side\n",
    "eff                            # need to eff with tag+sig side, expect under 1%\n",
    "                               # ε = ε_tag(0.5) *ε_sig"
   ]
  },
  {
   "cell_type": "code",
   "execution_count": 31,
   "id": "075d7d8d",
   "metadata": {},
   "outputs": [
    {
     "data": {
      "text/plain": [
       "0.005287878787878788"
      ]
     },
     "execution_count": 31,
     "metadata": {},
     "output_type": "execute_result"
    }
   ],
   "source": [
    "eff_both = len(sig_both_1) / (1000 * 264)\n",
    "eff_both\n"
   ]
  },
  {
   "cell_type": "code",
   "execution_count": 32,
   "id": "ba1b728c",
   "metadata": {},
   "outputs": [
    {
     "data": {
      "text/plain": [
       "0.005143939393939394"
      ]
     },
     "execution_count": 32,
     "metadata": {},
     "output_type": "execute_result"
    }
   ],
   "source": [
    "sig_both_cut = sig_cut.query(\"Bsig_d0_isSignal > 0.5 & Btag_d1_isSignal > 0.5\")\n",
    "eff_cut = len(sig_both_cut) / (1000 * 264)\n",
    "eff_cut"
   ]
  },
  {
   "cell_type": "code",
   "execution_count": 33,
   "id": "4bcff0e4",
   "metadata": {},
   "outputs": [
    {
     "data": {
      "text/plain": [
       "1358"
      ]
     },
     "execution_count": 33,
     "metadata": {},
     "output_type": "execute_result"
    }
   ],
   "source": [
    "len(sig_both_cut)"
   ]
  },
  {
   "cell_type": "code",
   "execution_count": 34,
   "id": "c4b03a28",
   "metadata": {},
   "outputs": [],
   "source": [
    "a = 3  #sigma"
   ]
  },
  {
   "cell_type": "code",
   "execution_count": 35,
   "id": "9f368f49",
   "metadata": {},
   "outputs": [
    {
     "data": {
      "text/plain": [
       "2.2937675163510806e-06"
      ]
     },
     "execution_count": 35,
     "metadata": {},
     "output_type": "execute_result"
    }
   ],
   "source": [
    "FoM_nocut = eff_both/( (a/2) + math.sqrt(len(bkg))) \n",
    "FoM_nocut"
   ]
  },
  {
   "cell_type": "code",
   "execution_count": 36,
   "id": "252348bf",
   "metadata": {},
   "outputs": [
    {
     "data": {
      "text/plain": [
       "1.8948179250897595e-05"
      ]
     },
     "execution_count": 36,
     "metadata": {},
     "output_type": "execute_result"
    }
   ],
   "source": [
    "FoM = eff_cut/( (a/2) + math.sqrt(len(bkg_cut))) \n",
    "FoM"
   ]
  },
  {
   "cell_type": "code",
   "execution_count": 40,
   "id": "9a180a75",
   "metadata": {},
   "outputs": [],
   "source": [
    "############################################################################\n",
    "############################################################################\n",
    "# Purity"
   ]
  },
  {
   "cell_type": "code",
   "execution_count": 41,
   "id": "4e9b5f66",
   "metadata": {},
   "outputs": [
    {
     "data": {
      "text/plain": [
       "0.0009099393461613323"
      ]
     },
     "execution_count": 41,
     "metadata": {},
     "output_type": "execute_result"
    }
   ],
   "source": [
    "purity_nocut = len(sig) / (len(sig) + len(bkg))\n",
    "purity_nocut"
   ]
  },
  {
   "cell_type": "code",
   "execution_count": 42,
   "id": "e152f921",
   "metadata": {},
   "outputs": [
    {
     "data": {
      "text/plain": [
       "0.05947480482611781"
      ]
     },
     "execution_count": 42,
     "metadata": {},
     "output_type": "execute_result"
    }
   ],
   "source": [
    "purity = len(sig_cut) / (len(sig_cut) + len(bkg_cut))\n",
    "purity"
   ]
  },
  {
   "cell_type": "code",
   "execution_count": 43,
   "id": "fb4212f6",
   "metadata": {},
   "outputs": [],
   "source": [
    "# Tag cut\n",
    "sig_cut2 = sig_cut.query(\"Btag_d1_roeEextra_cleanMask < 2.5 & Btag_d1_Mbc > 5.265\")\n",
    "bkg_cut2 = bkg_cut.query(\"Btag_d1_roeEextra_cleanMask < 2.5 & Btag_d1_Mbc > 5.265\")"
   ]
  },
  {
   "cell_type": "code",
   "execution_count": 44,
   "id": "08c648e9",
   "metadata": {},
   "outputs": [
    {
     "data": {
      "text/plain": [
       "4294"
      ]
     },
     "execution_count": 44,
     "metadata": {},
     "output_type": "execute_result"
    }
   ],
   "source": [
    "len(sig_cut2)"
   ]
  },
  {
   "cell_type": "code",
   "execution_count": 45,
   "id": "94d6a9ba",
   "metadata": {},
   "outputs": [
    {
     "data": {
      "text/plain": [
       "33676"
      ]
     },
     "execution_count": 45,
     "metadata": {},
     "output_type": "execute_result"
    }
   ],
   "source": [
    "len(bkg_cut2)"
   ]
  },
  {
   "cell_type": "code",
   "execution_count": 46,
   "id": "1b78c32f",
   "metadata": {},
   "outputs": [],
   "source": [
    "sig_both_cut2 = sig_cut2.query(\"Bsig_d0_isSignal > 0.5 & Btag_d1_isSignal > 0.5\")\n",
    "eff_cut2 = len(sig_both_cut2) / (1000 * 264)"
   ]
  },
  {
   "cell_type": "code",
   "execution_count": 47,
   "id": "6755d3ee",
   "metadata": {},
   "outputs": [
    {
     "data": {
      "text/plain": [
       "2.7168851612769397e-05"
      ]
     },
     "execution_count": 47,
     "metadata": {},
     "output_type": "execute_result"
    }
   ],
   "source": [
    "FoM = eff_cut2/( (a/2) + math.sqrt(len(bkg_cut2))) \n",
    "FoM"
   ]
  },
  {
   "cell_type": "code",
   "execution_count": 48,
   "id": "1fa81534",
   "metadata": {},
   "outputs": [
    {
     "data": {
      "text/plain": [
       "0.11308928101132473"
      ]
     },
     "execution_count": 48,
     "metadata": {},
     "output_type": "execute_result"
    }
   ],
   "source": [
    "purity = len(sig_cut2) / (len(sig_cut2) + len(bkg_cut2))\n",
    "purity"
   ]
  },
  {
   "cell_type": "code",
   "execution_count": 49,
   "id": "bddb1b5a",
   "metadata": {},
   "outputs": [],
   "source": [
    "# Upsilon cut\n",
    "sig_cut3 = sig_cut2.query(\"roeEextra__bo__bc < 2.0 & nROE_Tracks__bo__bc < 3.0  & roeP__bo__bc < 1.5 & roeNeextra__bo__bc<2.0\")  \n",
    "bkg_cut3 = bkg_cut2.query(\"roeEextra__bo__bc < 2.0 & nROE_Tracks__bo__bc < 3.0 & roeP__bo__bc < 1.5 & roeNeextra__bo__bc<2.0\") \n"
   ]
  },
  {
   "cell_type": "code",
   "execution_count": 50,
   "id": "718009e1",
   "metadata": {},
   "outputs": [
    {
     "data": {
      "text/plain": [
       "4077"
      ]
     },
     "execution_count": 50,
     "metadata": {},
     "output_type": "execute_result"
    }
   ],
   "source": [
    "len(sig_cut3)   # fitting after cut"
   ]
  },
  {
   "cell_type": "code",
   "execution_count": 51,
   "id": "7fa00767",
   "metadata": {},
   "outputs": [
    {
     "data": {
      "text/plain": [
       "14390"
      ]
     },
     "execution_count": 51,
     "metadata": {},
     "output_type": "execute_result"
    }
   ],
   "source": [
    "len(bkg_cut3)"
   ]
  },
  {
   "cell_type": "code",
   "execution_count": 52,
   "id": "41777a1c",
   "metadata": {},
   "outputs": [],
   "source": [
    "sig_both_cut3 = sig_cut3.query(\"Bsig_d0_isSignal > 0.5 & Btag_d1_isSignal > 0.5\")\n",
    "eff_cut3 = len(sig_both_cut3) / (1000 * 264)"
   ]
  },
  {
   "cell_type": "code",
   "execution_count": 53,
   "id": "3b715b3f",
   "metadata": {},
   "outputs": [
    {
     "data": {
      "text/html": [
       "<div>\n",
       "<style scoped>\n",
       "    .dataframe tbody tr th:only-of-type {\n",
       "        vertical-align: middle;\n",
       "    }\n",
       "\n",
       "    .dataframe tbody tr th {\n",
       "        vertical-align: top;\n",
       "    }\n",
       "\n",
       "    .dataframe thead th {\n",
       "        text-align: right;\n",
       "    }\n",
       "</style>\n",
       "<table border=\"1\" class=\"dataframe\">\n",
       "  <thead>\n",
       "    <tr style=\"text-align: right;\">\n",
       "      <th></th>\n",
       "      <th>__experiment__</th>\n",
       "      <th>__run__</th>\n",
       "      <th>__event__</th>\n",
       "      <th>__candidate__</th>\n",
       "      <th>__ncandidates__</th>\n",
       "      <th>__weight__</th>\n",
       "      <th>M</th>\n",
       "      <th>Mbc</th>\n",
       "      <th>E</th>\n",
       "      <th>p</th>\n",
       "      <th>...</th>\n",
       "      <th>Bsig_d0_roeP_cleanMask</th>\n",
       "      <th>Bsig_d0_roeMbc_cleanMask</th>\n",
       "      <th>Bsig_d0_roeDeltae_cleanMask</th>\n",
       "      <th>Bsig_d0_roeEextra_cleanMask</th>\n",
       "      <th>Bsig_d0_roeNeextra_cleanMask</th>\n",
       "      <th>Bsig_d0_nROE_Tracks_cleanMask</th>\n",
       "      <th>Bsig_d0_nROE_Charged_cleanMask</th>\n",
       "      <th>Bsig_d0_nROE_ECLClusters_cleanMask</th>\n",
       "      <th>Btag_FEIProbabilityRank</th>\n",
       "      <th>nParticlesInList__boUpsilon__bo4S__bc__claftercut__bc</th>\n",
       "    </tr>\n",
       "  </thead>\n",
       "  <tbody>\n",
       "    <tr>\n",
       "      <th>0</th>\n",
       "      <td>1003</td>\n",
       "      <td>0</td>\n",
       "      <td>8478042</td>\n",
       "      <td>0</td>\n",
       "      <td>1</td>\n",
       "      <td>1.0</td>\n",
       "      <td>7.054829</td>\n",
       "      <td>4.794375</td>\n",
       "      <td>7.382884</td>\n",
       "      <td>2.176320</td>\n",
       "      <td>...</td>\n",
       "      <td>1.796264</td>\n",
       "      <td>5.277451</td>\n",
       "      <td>-0.193478</td>\n",
       "      <td>2.237117</td>\n",
       "      <td>0.887408</td>\n",
       "      <td>4.0</td>\n",
       "      <td>4.0</td>\n",
       "      <td>9.0</td>\n",
       "      <td>1.0</td>\n",
       "      <td>1.0</td>\n",
       "    </tr>\n",
       "    <tr>\n",
       "      <th>1</th>\n",
       "      <td>1003</td>\n",
       "      <td>0</td>\n",
       "      <td>8478233</td>\n",
       "      <td>0</td>\n",
       "      <td>1</td>\n",
       "      <td>1.0</td>\n",
       "      <td>7.364454</td>\n",
       "      <td>4.660949</td>\n",
       "      <td>7.732060</td>\n",
       "      <td>2.355752</td>\n",
       "      <td>...</td>\n",
       "      <td>1.470823</td>\n",
       "      <td>5.271229</td>\n",
       "      <td>0.532470</td>\n",
       "      <td>2.659859</td>\n",
       "      <td>1.674774</td>\n",
       "      <td>5.0</td>\n",
       "      <td>5.0</td>\n",
       "      <td>13.0</td>\n",
       "      <td>1.0</td>\n",
       "      <td>1.0</td>\n",
       "    </tr>\n",
       "    <tr>\n",
       "      <th>2</th>\n",
       "      <td>1003</td>\n",
       "      <td>0</td>\n",
       "      <td>8478336</td>\n",
       "      <td>0</td>\n",
       "      <td>1</td>\n",
       "      <td>1.0</td>\n",
       "      <td>5.828386</td>\n",
       "      <td>5.196189</td>\n",
       "      <td>6.247967</td>\n",
       "      <td>2.251002</td>\n",
       "      <td>...</td>\n",
       "      <td>1.171022</td>\n",
       "      <td>5.277280</td>\n",
       "      <td>-0.550210</td>\n",
       "      <td>2.182217</td>\n",
       "      <td>0.736213</td>\n",
       "      <td>4.0</td>\n",
       "      <td>4.0</td>\n",
       "      <td>11.0</td>\n",
       "      <td>1.0</td>\n",
       "      <td>1.0</td>\n",
       "    </tr>\n",
       "    <tr>\n",
       "      <th>3</th>\n",
       "      <td>1003</td>\n",
       "      <td>0</td>\n",
       "      <td>8478413</td>\n",
       "      <td>0</td>\n",
       "      <td>2</td>\n",
       "      <td>1.0</td>\n",
       "      <td>6.750629</td>\n",
       "      <td>4.984207</td>\n",
       "      <td>7.641897</td>\n",
       "      <td>3.581562</td>\n",
       "      <td>...</td>\n",
       "      <td>1.655407</td>\n",
       "      <td>5.275005</td>\n",
       "      <td>0.233820</td>\n",
       "      <td>3.075575</td>\n",
       "      <td>0.677810</td>\n",
       "      <td>7.0</td>\n",
       "      <td>7.0</td>\n",
       "      <td>11.0</td>\n",
       "      <td>1.0</td>\n",
       "      <td>2.0</td>\n",
       "    </tr>\n",
       "    <tr>\n",
       "      <th>4</th>\n",
       "      <td>1003</td>\n",
       "      <td>0</td>\n",
       "      <td>8478413</td>\n",
       "      <td>1</td>\n",
       "      <td>2</td>\n",
       "      <td>1.0</td>\n",
       "      <td>6.630468</td>\n",
       "      <td>5.039389</td>\n",
       "      <td>7.468909</td>\n",
       "      <td>3.438239</td>\n",
       "      <td>...</td>\n",
       "      <td>1.655407</td>\n",
       "      <td>5.275005</td>\n",
       "      <td>0.233820</td>\n",
       "      <td>3.075575</td>\n",
       "      <td>0.677810</td>\n",
       "      <td>7.0</td>\n",
       "      <td>7.0</td>\n",
       "      <td>11.0</td>\n",
       "      <td>2.0</td>\n",
       "      <td>2.0</td>\n",
       "    </tr>\n",
       "    <tr>\n",
       "      <th>...</th>\n",
       "      <td>...</td>\n",
       "      <td>...</td>\n",
       "      <td>...</td>\n",
       "      <td>...</td>\n",
       "      <td>...</td>\n",
       "      <td>...</td>\n",
       "      <td>...</td>\n",
       "      <td>...</td>\n",
       "      <td>...</td>\n",
       "      <td>...</td>\n",
       "      <td>...</td>\n",
       "      <td>...</td>\n",
       "      <td>...</td>\n",
       "      <td>...</td>\n",
       "      <td>...</td>\n",
       "      <td>...</td>\n",
       "      <td>...</td>\n",
       "      <td>...</td>\n",
       "      <td>...</td>\n",
       "      <td>...</td>\n",
       "      <td>...</td>\n",
       "    </tr>\n",
       "    <tr>\n",
       "      <th>4828</th>\n",
       "      <td>1003</td>\n",
       "      <td>0</td>\n",
       "      <td>7479684</td>\n",
       "      <td>0</td>\n",
       "      <td>1</td>\n",
       "      <td>1.0</td>\n",
       "      <td>6.724295</td>\n",
       "      <td>5.037837</td>\n",
       "      <td>7.071847</td>\n",
       "      <td>2.189722</td>\n",
       "      <td>...</td>\n",
       "      <td>1.583627</td>\n",
       "      <td>5.289039</td>\n",
       "      <td>0.258387</td>\n",
       "      <td>3.143792</td>\n",
       "      <td>1.549474</td>\n",
       "      <td>7.0</td>\n",
       "      <td>7.0</td>\n",
       "      <td>14.0</td>\n",
       "      <td>1.0</td>\n",
       "      <td>1.0</td>\n",
       "    </tr>\n",
       "    <tr>\n",
       "      <th>4829</th>\n",
       "      <td>1003</td>\n",
       "      <td>0</td>\n",
       "      <td>7479725</td>\n",
       "      <td>0</td>\n",
       "      <td>1</td>\n",
       "      <td>1.0</td>\n",
       "      <td>6.781810</td>\n",
       "      <td>4.862910</td>\n",
       "      <td>7.448079</td>\n",
       "      <td>3.079113</td>\n",
       "      <td>...</td>\n",
       "      <td>1.529215</td>\n",
       "      <td>5.288954</td>\n",
       "      <td>0.298332</td>\n",
       "      <td>2.784187</td>\n",
       "      <td>1.239320</td>\n",
       "      <td>5.0</td>\n",
       "      <td>5.0</td>\n",
       "      <td>10.0</td>\n",
       "      <td>1.0</td>\n",
       "      <td>1.0</td>\n",
       "    </tr>\n",
       "    <tr>\n",
       "      <th>4831</th>\n",
       "      <td>1003</td>\n",
       "      <td>0</td>\n",
       "      <td>7479908</td>\n",
       "      <td>0</td>\n",
       "      <td>3</td>\n",
       "      <td>1.0</td>\n",
       "      <td>7.650949</td>\n",
       "      <td>4.647685</td>\n",
       "      <td>8.743655</td>\n",
       "      <td>4.232550</td>\n",
       "      <td>...</td>\n",
       "      <td>1.759641</td>\n",
       "      <td>5.273781</td>\n",
       "      <td>0.022597</td>\n",
       "      <td>3.746920</td>\n",
       "      <td>3.321640</td>\n",
       "      <td>2.0</td>\n",
       "      <td>2.0</td>\n",
       "      <td>12.0</td>\n",
       "      <td>1.0</td>\n",
       "      <td>3.0</td>\n",
       "    </tr>\n",
       "    <tr>\n",
       "      <th>4832</th>\n",
       "      <td>1003</td>\n",
       "      <td>0</td>\n",
       "      <td>7479908</td>\n",
       "      <td>1</td>\n",
       "      <td>3</td>\n",
       "      <td>1.0</td>\n",
       "      <td>7.707860</td>\n",
       "      <td>4.603704</td>\n",
       "      <td>8.837341</td>\n",
       "      <td>4.322904</td>\n",
       "      <td>...</td>\n",
       "      <td>1.759641</td>\n",
       "      <td>5.273781</td>\n",
       "      <td>0.022597</td>\n",
       "      <td>3.746920</td>\n",
       "      <td>3.321640</td>\n",
       "      <td>2.0</td>\n",
       "      <td>2.0</td>\n",
       "      <td>12.0</td>\n",
       "      <td>2.0</td>\n",
       "      <td>3.0</td>\n",
       "    </tr>\n",
       "    <tr>\n",
       "      <th>4833</th>\n",
       "      <td>1003</td>\n",
       "      <td>0</td>\n",
       "      <td>7479908</td>\n",
       "      <td>2</td>\n",
       "      <td>3</td>\n",
       "      <td>1.0</td>\n",
       "      <td>7.708427</td>\n",
       "      <td>4.621899</td>\n",
       "      <td>8.829899</td>\n",
       "      <td>4.306654</td>\n",
       "      <td>...</td>\n",
       "      <td>1.759641</td>\n",
       "      <td>5.273781</td>\n",
       "      <td>0.022597</td>\n",
       "      <td>3.746920</td>\n",
       "      <td>3.321640</td>\n",
       "      <td>2.0</td>\n",
       "      <td>2.0</td>\n",
       "      <td>12.0</td>\n",
       "      <td>3.0</td>\n",
       "      <td>3.0</td>\n",
       "    </tr>\n",
       "  </tbody>\n",
       "</table>\n",
       "<p>4077 rows × 256 columns</p>\n",
       "</div>"
      ],
      "text/plain": [
       "      __experiment__  __run__  __event__  __candidate__  __ncandidates__  \\\n",
       "0               1003        0    8478042              0                1   \n",
       "1               1003        0    8478233              0                1   \n",
       "2               1003        0    8478336              0                1   \n",
       "3               1003        0    8478413              0                2   \n",
       "4               1003        0    8478413              1                2   \n",
       "...              ...      ...        ...            ...              ...   \n",
       "4828            1003        0    7479684              0                1   \n",
       "4829            1003        0    7479725              0                1   \n",
       "4831            1003        0    7479908              0                3   \n",
       "4832            1003        0    7479908              1                3   \n",
       "4833            1003        0    7479908              2                3   \n",
       "\n",
       "      __weight__         M       Mbc         E         p  ...  \\\n",
       "0            1.0  7.054829  4.794375  7.382884  2.176320  ...   \n",
       "1            1.0  7.364454  4.660949  7.732060  2.355752  ...   \n",
       "2            1.0  5.828386  5.196189  6.247967  2.251002  ...   \n",
       "3            1.0  6.750629  4.984207  7.641897  3.581562  ...   \n",
       "4            1.0  6.630468  5.039389  7.468909  3.438239  ...   \n",
       "...          ...       ...       ...       ...       ...  ...   \n",
       "4828         1.0  6.724295  5.037837  7.071847  2.189722  ...   \n",
       "4829         1.0  6.781810  4.862910  7.448079  3.079113  ...   \n",
       "4831         1.0  7.650949  4.647685  8.743655  4.232550  ...   \n",
       "4832         1.0  7.707860  4.603704  8.837341  4.322904  ...   \n",
       "4833         1.0  7.708427  4.621899  8.829899  4.306654  ...   \n",
       "\n",
       "      Bsig_d0_roeP_cleanMask  Bsig_d0_roeMbc_cleanMask  \\\n",
       "0                   1.796264                  5.277451   \n",
       "1                   1.470823                  5.271229   \n",
       "2                   1.171022                  5.277280   \n",
       "3                   1.655407                  5.275005   \n",
       "4                   1.655407                  5.275005   \n",
       "...                      ...                       ...   \n",
       "4828                1.583627                  5.289039   \n",
       "4829                1.529215                  5.288954   \n",
       "4831                1.759641                  5.273781   \n",
       "4832                1.759641                  5.273781   \n",
       "4833                1.759641                  5.273781   \n",
       "\n",
       "      Bsig_d0_roeDeltae_cleanMask  Bsig_d0_roeEextra_cleanMask  \\\n",
       "0                       -0.193478                     2.237117   \n",
       "1                        0.532470                     2.659859   \n",
       "2                       -0.550210                     2.182217   \n",
       "3                        0.233820                     3.075575   \n",
       "4                        0.233820                     3.075575   \n",
       "...                           ...                          ...   \n",
       "4828                     0.258387                     3.143792   \n",
       "4829                     0.298332                     2.784187   \n",
       "4831                     0.022597                     3.746920   \n",
       "4832                     0.022597                     3.746920   \n",
       "4833                     0.022597                     3.746920   \n",
       "\n",
       "      Bsig_d0_roeNeextra_cleanMask  Bsig_d0_nROE_Tracks_cleanMask  \\\n",
       "0                         0.887408                            4.0   \n",
       "1                         1.674774                            5.0   \n",
       "2                         0.736213                            4.0   \n",
       "3                         0.677810                            7.0   \n",
       "4                         0.677810                            7.0   \n",
       "...                            ...                            ...   \n",
       "4828                      1.549474                            7.0   \n",
       "4829                      1.239320                            5.0   \n",
       "4831                      3.321640                            2.0   \n",
       "4832                      3.321640                            2.0   \n",
       "4833                      3.321640                            2.0   \n",
       "\n",
       "      Bsig_d0_nROE_Charged_cleanMask  Bsig_d0_nROE_ECLClusters_cleanMask  \\\n",
       "0                                4.0                                 9.0   \n",
       "1                                5.0                                13.0   \n",
       "2                                4.0                                11.0   \n",
       "3                                7.0                                11.0   \n",
       "4                                7.0                                11.0   \n",
       "...                              ...                                 ...   \n",
       "4828                             7.0                                14.0   \n",
       "4829                             5.0                                10.0   \n",
       "4831                             2.0                                12.0   \n",
       "4832                             2.0                                12.0   \n",
       "4833                             2.0                                12.0   \n",
       "\n",
       "      Btag_FEIProbabilityRank  \\\n",
       "0                         1.0   \n",
       "1                         1.0   \n",
       "2                         1.0   \n",
       "3                         1.0   \n",
       "4                         2.0   \n",
       "...                       ...   \n",
       "4828                      1.0   \n",
       "4829                      1.0   \n",
       "4831                      1.0   \n",
       "4832                      2.0   \n",
       "4833                      3.0   \n",
       "\n",
       "      nParticlesInList__boUpsilon__bo4S__bc__claftercut__bc  \n",
       "0                                                   1.0      \n",
       "1                                                   1.0      \n",
       "2                                                   1.0      \n",
       "3                                                   2.0      \n",
       "4                                                   2.0      \n",
       "...                                                 ...      \n",
       "4828                                                1.0      \n",
       "4829                                                1.0      \n",
       "4831                                                3.0      \n",
       "4832                                                3.0      \n",
       "4833                                                3.0      \n",
       "\n",
       "[4077 rows x 256 columns]"
      ]
     },
     "execution_count": 53,
     "metadata": {},
     "output_type": "execute_result"
    }
   ],
   "source": [
    "sig_cut3"
   ]
  },
  {
   "cell_type": "code",
   "execution_count": 54,
   "id": "3d3c55db",
   "metadata": {},
   "outputs": [
    {
     "data": {
      "text/plain": [
       "1271"
      ]
     },
     "execution_count": 54,
     "metadata": {},
     "output_type": "execute_result"
    }
   ],
   "source": [
    "len(sig_both_cut3)"
   ]
  },
  {
   "cell_type": "code",
   "execution_count": 55,
   "id": "63229376",
   "metadata": {},
   "outputs": [
    {
     "data": {
      "text/plain": [
       "3.963823719707837e-05"
      ]
     },
     "execution_count": 55,
     "metadata": {},
     "output_type": "execute_result"
    }
   ],
   "source": [
    "FoM = eff_cut3/( (a/2) + math.sqrt(len(bkg_cut3))) \n",
    "FoM"
   ]
  },
  {
   "cell_type": "code",
   "execution_count": 56,
   "id": "6e9973f9",
   "metadata": {},
   "outputs": [
    {
     "data": {
      "text/plain": [
       "0.22077218822764932"
      ]
     },
     "execution_count": 56,
     "metadata": {},
     "output_type": "execute_result"
    }
   ],
   "source": [
    "purity = len(sig_cut3) / (len(sig_cut3) + len(bkg_cut3))\n",
    "purity"
   ]
  },
  {
   "cell_type": "code",
   "execution_count": 59,
   "id": "59db901a",
   "metadata": {},
   "outputs": [],
   "source": [
    "group_sig_cut3 = sig_cut3.groupby(by=[\"__event__\"])\n",
    "group_bkg_cut3 = bkg_cut3.groupby(by=[\"__event__\"])"
   ]
  },
  {
   "cell_type": "code",
   "execution_count": 60,
   "id": "93ad3183",
   "metadata": {},
   "outputs": [
    {
     "data": {
      "text/plain": [
       "__event__\n",
       "99151        1\n",
       "99255        1\n",
       "99318        1\n",
       "99369        1\n",
       "99433        6\n",
       "            ..\n",
       "49986178     2\n",
       "49986506     1\n",
       "49986614     2\n",
       "49986822    13\n",
       "49986921     3\n",
       "Length: 2423, dtype: int64"
      ]
     },
     "execution_count": 60,
     "metadata": {},
     "output_type": "execute_result"
    }
   ],
   "source": [
    "group_sig_cut3.size()\n"
   ]
  },
  {
   "cell_type": "code",
   "execution_count": 61,
   "id": "d321aff4",
   "metadata": {},
   "outputs": [
    {
     "data": {
      "text/plain": [
       "__event__\n",
       "1310         1\n",
       "3774         1\n",
       "3828         1\n",
       "6653         1\n",
       "11369        1\n",
       "            ..\n",
       "158767493    3\n",
       "158796195    1\n",
       "159659232    1\n",
       "159664025    1\n",
       "160487753    1\n",
       "Length: 9933, dtype: int64"
      ]
     },
     "execution_count": 61,
     "metadata": {},
     "output_type": "execute_result"
    }
   ],
   "source": [
    "group_bkg_cut3.size()\n"
   ]
  },
  {
   "cell_type": "code",
   "execution_count": 62,
   "id": "3b5db3fe",
   "metadata": {},
   "outputs": [
    {
     "data": {
      "text/plain": [
       "5307608"
      ]
     },
     "execution_count": 62,
     "metadata": {},
     "output_type": "execute_result"
    }
   ],
   "source": [
    "len(bkg)"
   ]
  },
  {
   "cell_type": "code",
   "execution_count": 64,
   "id": "f59e38d7",
   "metadata": {},
   "outputs": [],
   "source": [
    "idx = sig_cut3.groupby(['__event__'])['Btag_FEIProbabilityRank'].transform(min) == sig_cut3['Btag_FEIProbabilityRank']"
   ]
  },
  {
   "cell_type": "code",
   "execution_count": 65,
   "id": "381462fa",
   "metadata": {},
   "outputs": [
    {
     "data": {
      "text/html": [
       "<div>\n",
       "<style scoped>\n",
       "    .dataframe tbody tr th:only-of-type {\n",
       "        vertical-align: middle;\n",
       "    }\n",
       "\n",
       "    .dataframe tbody tr th {\n",
       "        vertical-align: top;\n",
       "    }\n",
       "\n",
       "    .dataframe thead th {\n",
       "        text-align: right;\n",
       "    }\n",
       "</style>\n",
       "<table border=\"1\" class=\"dataframe\">\n",
       "  <thead>\n",
       "    <tr style=\"text-align: right;\">\n",
       "      <th></th>\n",
       "      <th>__experiment__</th>\n",
       "      <th>__run__</th>\n",
       "      <th>__event__</th>\n",
       "      <th>__candidate__</th>\n",
       "      <th>__ncandidates__</th>\n",
       "      <th>__weight__</th>\n",
       "      <th>M</th>\n",
       "      <th>Mbc</th>\n",
       "      <th>E</th>\n",
       "      <th>p</th>\n",
       "      <th>...</th>\n",
       "      <th>Bsig_d0_roeP_cleanMask</th>\n",
       "      <th>Bsig_d0_roeMbc_cleanMask</th>\n",
       "      <th>Bsig_d0_roeDeltae_cleanMask</th>\n",
       "      <th>Bsig_d0_roeEextra_cleanMask</th>\n",
       "      <th>Bsig_d0_roeNeextra_cleanMask</th>\n",
       "      <th>Bsig_d0_nROE_Tracks_cleanMask</th>\n",
       "      <th>Bsig_d0_nROE_Charged_cleanMask</th>\n",
       "      <th>Bsig_d0_nROE_ECLClusters_cleanMask</th>\n",
       "      <th>Btag_FEIProbabilityRank</th>\n",
       "      <th>nParticlesInList__boUpsilon__bo4S__bc__claftercut__bc</th>\n",
       "    </tr>\n",
       "  </thead>\n",
       "  <tbody>\n",
       "    <tr>\n",
       "      <th>0</th>\n",
       "      <td>1003</td>\n",
       "      <td>0</td>\n",
       "      <td>8478042</td>\n",
       "      <td>0</td>\n",
       "      <td>1</td>\n",
       "      <td>1.0</td>\n",
       "      <td>7.054829</td>\n",
       "      <td>4.794375</td>\n",
       "      <td>7.382884</td>\n",
       "      <td>2.176320</td>\n",
       "      <td>...</td>\n",
       "      <td>1.796264</td>\n",
       "      <td>5.277451</td>\n",
       "      <td>-0.193478</td>\n",
       "      <td>2.237117</td>\n",
       "      <td>0.887408</td>\n",
       "      <td>4.0</td>\n",
       "      <td>4.0</td>\n",
       "      <td>9.0</td>\n",
       "      <td>1.0</td>\n",
       "      <td>1.0</td>\n",
       "    </tr>\n",
       "    <tr>\n",
       "      <th>1</th>\n",
       "      <td>1003</td>\n",
       "      <td>0</td>\n",
       "      <td>8478233</td>\n",
       "      <td>0</td>\n",
       "      <td>1</td>\n",
       "      <td>1.0</td>\n",
       "      <td>7.364454</td>\n",
       "      <td>4.660949</td>\n",
       "      <td>7.732060</td>\n",
       "      <td>2.355752</td>\n",
       "      <td>...</td>\n",
       "      <td>1.470823</td>\n",
       "      <td>5.271229</td>\n",
       "      <td>0.532470</td>\n",
       "      <td>2.659859</td>\n",
       "      <td>1.674774</td>\n",
       "      <td>5.0</td>\n",
       "      <td>5.0</td>\n",
       "      <td>13.0</td>\n",
       "      <td>1.0</td>\n",
       "      <td>1.0</td>\n",
       "    </tr>\n",
       "    <tr>\n",
       "      <th>2</th>\n",
       "      <td>1003</td>\n",
       "      <td>0</td>\n",
       "      <td>8478336</td>\n",
       "      <td>0</td>\n",
       "      <td>1</td>\n",
       "      <td>1.0</td>\n",
       "      <td>5.828386</td>\n",
       "      <td>5.196189</td>\n",
       "      <td>6.247967</td>\n",
       "      <td>2.251002</td>\n",
       "      <td>...</td>\n",
       "      <td>1.171022</td>\n",
       "      <td>5.277280</td>\n",
       "      <td>-0.550210</td>\n",
       "      <td>2.182217</td>\n",
       "      <td>0.736213</td>\n",
       "      <td>4.0</td>\n",
       "      <td>4.0</td>\n",
       "      <td>11.0</td>\n",
       "      <td>1.0</td>\n",
       "      <td>1.0</td>\n",
       "    </tr>\n",
       "    <tr>\n",
       "      <th>3</th>\n",
       "      <td>1003</td>\n",
       "      <td>0</td>\n",
       "      <td>8478413</td>\n",
       "      <td>0</td>\n",
       "      <td>2</td>\n",
       "      <td>1.0</td>\n",
       "      <td>6.750629</td>\n",
       "      <td>4.984207</td>\n",
       "      <td>7.641897</td>\n",
       "      <td>3.581562</td>\n",
       "      <td>...</td>\n",
       "      <td>1.655407</td>\n",
       "      <td>5.275005</td>\n",
       "      <td>0.233820</td>\n",
       "      <td>3.075575</td>\n",
       "      <td>0.677810</td>\n",
       "      <td>7.0</td>\n",
       "      <td>7.0</td>\n",
       "      <td>11.0</td>\n",
       "      <td>1.0</td>\n",
       "      <td>2.0</td>\n",
       "    </tr>\n",
       "    <tr>\n",
       "      <th>5</th>\n",
       "      <td>1003</td>\n",
       "      <td>0</td>\n",
       "      <td>8478422</td>\n",
       "      <td>0</td>\n",
       "      <td>1</td>\n",
       "      <td>1.0</td>\n",
       "      <td>6.023686</td>\n",
       "      <td>5.143155</td>\n",
       "      <td>6.629206</td>\n",
       "      <td>2.767955</td>\n",
       "      <td>...</td>\n",
       "      <td>1.820712</td>\n",
       "      <td>5.277897</td>\n",
       "      <td>0.198332</td>\n",
       "      <td>3.353548</td>\n",
       "      <td>2.060623</td>\n",
       "      <td>5.0</td>\n",
       "      <td>5.0</td>\n",
       "      <td>13.0</td>\n",
       "      <td>1.0</td>\n",
       "      <td>1.0</td>\n",
       "    </tr>\n",
       "    <tr>\n",
       "      <th>...</th>\n",
       "      <td>...</td>\n",
       "      <td>...</td>\n",
       "      <td>...</td>\n",
       "      <td>...</td>\n",
       "      <td>...</td>\n",
       "      <td>...</td>\n",
       "      <td>...</td>\n",
       "      <td>...</td>\n",
       "      <td>...</td>\n",
       "      <td>...</td>\n",
       "      <td>...</td>\n",
       "      <td>...</td>\n",
       "      <td>...</td>\n",
       "      <td>...</td>\n",
       "      <td>...</td>\n",
       "      <td>...</td>\n",
       "      <td>...</td>\n",
       "      <td>...</td>\n",
       "      <td>...</td>\n",
       "      <td>...</td>\n",
       "      <td>...</td>\n",
       "    </tr>\n",
       "    <tr>\n",
       "      <th>4825</th>\n",
       "      <td>1003</td>\n",
       "      <td>0</td>\n",
       "      <td>7479486</td>\n",
       "      <td>0</td>\n",
       "      <td>1</td>\n",
       "      <td>1.0</td>\n",
       "      <td>7.146856</td>\n",
       "      <td>4.798996</td>\n",
       "      <td>7.599262</td>\n",
       "      <td>2.582873</td>\n",
       "      <td>...</td>\n",
       "      <td>1.090672</td>\n",
       "      <td>5.253634</td>\n",
       "      <td>0.500991</td>\n",
       "      <td>2.539750</td>\n",
       "      <td>1.147912</td>\n",
       "      <td>3.0</td>\n",
       "      <td>3.0</td>\n",
       "      <td>12.0</td>\n",
       "      <td>1.0</td>\n",
       "      <td>1.0</td>\n",
       "    </tr>\n",
       "    <tr>\n",
       "      <th>4826</th>\n",
       "      <td>1003</td>\n",
       "      <td>0</td>\n",
       "      <td>7479542</td>\n",
       "      <td>0</td>\n",
       "      <td>1</td>\n",
       "      <td>1.0</td>\n",
       "      <td>7.238847</td>\n",
       "      <td>4.682410</td>\n",
       "      <td>7.869653</td>\n",
       "      <td>3.087157</td>\n",
       "      <td>...</td>\n",
       "      <td>1.502302</td>\n",
       "      <td>5.275452</td>\n",
       "      <td>0.200405</td>\n",
       "      <td>1.986653</td>\n",
       "      <td>0.363472</td>\n",
       "      <td>7.0</td>\n",
       "      <td>7.0</td>\n",
       "      <td>10.0</td>\n",
       "      <td>1.0</td>\n",
       "      <td>1.0</td>\n",
       "    </tr>\n",
       "    <tr>\n",
       "      <th>4828</th>\n",
       "      <td>1003</td>\n",
       "      <td>0</td>\n",
       "      <td>7479684</td>\n",
       "      <td>0</td>\n",
       "      <td>1</td>\n",
       "      <td>1.0</td>\n",
       "      <td>6.724295</td>\n",
       "      <td>5.037837</td>\n",
       "      <td>7.071847</td>\n",
       "      <td>2.189722</td>\n",
       "      <td>...</td>\n",
       "      <td>1.583627</td>\n",
       "      <td>5.289039</td>\n",
       "      <td>0.258387</td>\n",
       "      <td>3.143792</td>\n",
       "      <td>1.549474</td>\n",
       "      <td>7.0</td>\n",
       "      <td>7.0</td>\n",
       "      <td>14.0</td>\n",
       "      <td>1.0</td>\n",
       "      <td>1.0</td>\n",
       "    </tr>\n",
       "    <tr>\n",
       "      <th>4829</th>\n",
       "      <td>1003</td>\n",
       "      <td>0</td>\n",
       "      <td>7479725</td>\n",
       "      <td>0</td>\n",
       "      <td>1</td>\n",
       "      <td>1.0</td>\n",
       "      <td>6.781810</td>\n",
       "      <td>4.862910</td>\n",
       "      <td>7.448079</td>\n",
       "      <td>3.079113</td>\n",
       "      <td>...</td>\n",
       "      <td>1.529215</td>\n",
       "      <td>5.288954</td>\n",
       "      <td>0.298332</td>\n",
       "      <td>2.784187</td>\n",
       "      <td>1.239320</td>\n",
       "      <td>5.0</td>\n",
       "      <td>5.0</td>\n",
       "      <td>10.0</td>\n",
       "      <td>1.0</td>\n",
       "      <td>1.0</td>\n",
       "    </tr>\n",
       "    <tr>\n",
       "      <th>4831</th>\n",
       "      <td>1003</td>\n",
       "      <td>0</td>\n",
       "      <td>7479908</td>\n",
       "      <td>0</td>\n",
       "      <td>3</td>\n",
       "      <td>1.0</td>\n",
       "      <td>7.650949</td>\n",
       "      <td>4.647685</td>\n",
       "      <td>8.743655</td>\n",
       "      <td>4.232550</td>\n",
       "      <td>...</td>\n",
       "      <td>1.759641</td>\n",
       "      <td>5.273781</td>\n",
       "      <td>0.022597</td>\n",
       "      <td>3.746920</td>\n",
       "      <td>3.321640</td>\n",
       "      <td>2.0</td>\n",
       "      <td>2.0</td>\n",
       "      <td>12.0</td>\n",
       "      <td>1.0</td>\n",
       "      <td>3.0</td>\n",
       "    </tr>\n",
       "  </tbody>\n",
       "</table>\n",
       "<p>2423 rows × 256 columns</p>\n",
       "</div>"
      ],
      "text/plain": [
       "      __experiment__  __run__  __event__  __candidate__  __ncandidates__  \\\n",
       "0               1003        0    8478042              0                1   \n",
       "1               1003        0    8478233              0                1   \n",
       "2               1003        0    8478336              0                1   \n",
       "3               1003        0    8478413              0                2   \n",
       "5               1003        0    8478422              0                1   \n",
       "...              ...      ...        ...            ...              ...   \n",
       "4825            1003        0    7479486              0                1   \n",
       "4826            1003        0    7479542              0                1   \n",
       "4828            1003        0    7479684              0                1   \n",
       "4829            1003        0    7479725              0                1   \n",
       "4831            1003        0    7479908              0                3   \n",
       "\n",
       "      __weight__         M       Mbc         E         p  ...  \\\n",
       "0            1.0  7.054829  4.794375  7.382884  2.176320  ...   \n",
       "1            1.0  7.364454  4.660949  7.732060  2.355752  ...   \n",
       "2            1.0  5.828386  5.196189  6.247967  2.251002  ...   \n",
       "3            1.0  6.750629  4.984207  7.641897  3.581562  ...   \n",
       "5            1.0  6.023686  5.143155  6.629206  2.767955  ...   \n",
       "...          ...       ...       ...       ...       ...  ...   \n",
       "4825         1.0  7.146856  4.798996  7.599262  2.582873  ...   \n",
       "4826         1.0  7.238847  4.682410  7.869653  3.087157  ...   \n",
       "4828         1.0  6.724295  5.037837  7.071847  2.189722  ...   \n",
       "4829         1.0  6.781810  4.862910  7.448079  3.079113  ...   \n",
       "4831         1.0  7.650949  4.647685  8.743655  4.232550  ...   \n",
       "\n",
       "      Bsig_d0_roeP_cleanMask  Bsig_d0_roeMbc_cleanMask  \\\n",
       "0                   1.796264                  5.277451   \n",
       "1                   1.470823                  5.271229   \n",
       "2                   1.171022                  5.277280   \n",
       "3                   1.655407                  5.275005   \n",
       "5                   1.820712                  5.277897   \n",
       "...                      ...                       ...   \n",
       "4825                1.090672                  5.253634   \n",
       "4826                1.502302                  5.275452   \n",
       "4828                1.583627                  5.289039   \n",
       "4829                1.529215                  5.288954   \n",
       "4831                1.759641                  5.273781   \n",
       "\n",
       "      Bsig_d0_roeDeltae_cleanMask  Bsig_d0_roeEextra_cleanMask  \\\n",
       "0                       -0.193478                     2.237117   \n",
       "1                        0.532470                     2.659859   \n",
       "2                       -0.550210                     2.182217   \n",
       "3                        0.233820                     3.075575   \n",
       "5                        0.198332                     3.353548   \n",
       "...                           ...                          ...   \n",
       "4825                     0.500991                     2.539750   \n",
       "4826                     0.200405                     1.986653   \n",
       "4828                     0.258387                     3.143792   \n",
       "4829                     0.298332                     2.784187   \n",
       "4831                     0.022597                     3.746920   \n",
       "\n",
       "      Bsig_d0_roeNeextra_cleanMask  Bsig_d0_nROE_Tracks_cleanMask  \\\n",
       "0                         0.887408                            4.0   \n",
       "1                         1.674774                            5.0   \n",
       "2                         0.736213                            4.0   \n",
       "3                         0.677810                            7.0   \n",
       "5                         2.060623                            5.0   \n",
       "...                            ...                            ...   \n",
       "4825                      1.147912                            3.0   \n",
       "4826                      0.363472                            7.0   \n",
       "4828                      1.549474                            7.0   \n",
       "4829                      1.239320                            5.0   \n",
       "4831                      3.321640                            2.0   \n",
       "\n",
       "      Bsig_d0_nROE_Charged_cleanMask  Bsig_d0_nROE_ECLClusters_cleanMask  \\\n",
       "0                                4.0                                 9.0   \n",
       "1                                5.0                                13.0   \n",
       "2                                4.0                                11.0   \n",
       "3                                7.0                                11.0   \n",
       "5                                5.0                                13.0   \n",
       "...                              ...                                 ...   \n",
       "4825                             3.0                                12.0   \n",
       "4826                             7.0                                10.0   \n",
       "4828                             7.0                                14.0   \n",
       "4829                             5.0                                10.0   \n",
       "4831                             2.0                                12.0   \n",
       "\n",
       "      Btag_FEIProbabilityRank  \\\n",
       "0                         1.0   \n",
       "1                         1.0   \n",
       "2                         1.0   \n",
       "3                         1.0   \n",
       "5                         1.0   \n",
       "...                       ...   \n",
       "4825                      1.0   \n",
       "4826                      1.0   \n",
       "4828                      1.0   \n",
       "4829                      1.0   \n",
       "4831                      1.0   \n",
       "\n",
       "      nParticlesInList__boUpsilon__bo4S__bc__claftercut__bc  \n",
       "0                                                   1.0      \n",
       "1                                                   1.0      \n",
       "2                                                   1.0      \n",
       "3                                                   2.0      \n",
       "5                                                   1.0      \n",
       "...                                                 ...      \n",
       "4825                                                1.0      \n",
       "4826                                                1.0      \n",
       "4828                                                1.0      \n",
       "4829                                                1.0      \n",
       "4831                                                3.0      \n",
       "\n",
       "[2423 rows x 256 columns]"
      ]
     },
     "execution_count": 65,
     "metadata": {},
     "output_type": "execute_result"
    }
   ],
   "source": [
    "sig_cut3[idx]"
   ]
  },
  {
   "cell_type": "code",
   "execution_count": 66,
   "id": "391f04ba",
   "metadata": {},
   "outputs": [],
   "source": [
    "idx_bkg = bkg_cut3.groupby(['__event__'])['Btag_FEIProbabilityRank'].transform(min) == bkg_cut3['Btag_FEIProbabilityRank']"
   ]
  },
  {
   "cell_type": "code",
   "execution_count": 67,
   "id": "b05b6294",
   "metadata": {},
   "outputs": [
    {
     "data": {
      "text/html": [
       "<div>\n",
       "<style scoped>\n",
       "    .dataframe tbody tr th:only-of-type {\n",
       "        vertical-align: middle;\n",
       "    }\n",
       "\n",
       "    .dataframe tbody tr th {\n",
       "        vertical-align: top;\n",
       "    }\n",
       "\n",
       "    .dataframe thead th {\n",
       "        text-align: right;\n",
       "    }\n",
       "</style>\n",
       "<table border=\"1\" class=\"dataframe\">\n",
       "  <thead>\n",
       "    <tr style=\"text-align: right;\">\n",
       "      <th></th>\n",
       "      <th></th>\n",
       "      <th>__experiment__</th>\n",
       "      <th>__run__</th>\n",
       "      <th>__event__</th>\n",
       "      <th>__candidate__</th>\n",
       "      <th>__ncandidates__</th>\n",
       "      <th>__weight__</th>\n",
       "      <th>M</th>\n",
       "      <th>Mbc</th>\n",
       "      <th>E</th>\n",
       "      <th>p</th>\n",
       "      <th>...</th>\n",
       "      <th>Bsig_d0_roeP_cleanMask</th>\n",
       "      <th>Bsig_d0_roeMbc_cleanMask</th>\n",
       "      <th>Bsig_d0_roeDeltae_cleanMask</th>\n",
       "      <th>Bsig_d0_roeEextra_cleanMask</th>\n",
       "      <th>Bsig_d0_roeNeextra_cleanMask</th>\n",
       "      <th>Bsig_d0_nROE_Tracks_cleanMask</th>\n",
       "      <th>Bsig_d0_nROE_Charged_cleanMask</th>\n",
       "      <th>Bsig_d0_nROE_ECLClusters_cleanMask</th>\n",
       "      <th>Btag_FEIProbabilityRank</th>\n",
       "      <th>nParticlesInList__boUpsilon__bo4S__bc__claftercut__bc</th>\n",
       "    </tr>\n",
       "  </thead>\n",
       "  <tbody>\n",
       "    <tr>\n",
       "      <th rowspan=\"5\" valign=\"top\">uu</th>\n",
       "      <th>1999</th>\n",
       "      <td>1003</td>\n",
       "      <td>0</td>\n",
       "      <td>7114471</td>\n",
       "      <td>0</td>\n",
       "      <td>1</td>\n",
       "      <td>1.0</td>\n",
       "      <td>6.549256</td>\n",
       "      <td>5.192681</td>\n",
       "      <td>7.051312</td>\n",
       "      <td>2.613092</td>\n",
       "      <td>...</td>\n",
       "      <td>2.080709</td>\n",
       "      <td>5.246319</td>\n",
       "      <td>1.274476</td>\n",
       "      <td>2.390989</td>\n",
       "      <td>0.921048</td>\n",
       "      <td>6.0</td>\n",
       "      <td>6.0</td>\n",
       "      <td>10.0</td>\n",
       "      <td>1.0</td>\n",
       "      <td>1.0</td>\n",
       "    </tr>\n",
       "    <tr>\n",
       "      <th>2716</th>\n",
       "      <td>1003</td>\n",
       "      <td>0</td>\n",
       "      <td>78521346</td>\n",
       "      <td>0</td>\n",
       "      <td>2</td>\n",
       "      <td>1.0</td>\n",
       "      <td>6.655711</td>\n",
       "      <td>4.981682</td>\n",
       "      <td>7.224367</td>\n",
       "      <td>2.809447</td>\n",
       "      <td>...</td>\n",
       "      <td>2.059720</td>\n",
       "      <td>5.265025</td>\n",
       "      <td>0.990441</td>\n",
       "      <td>2.864654</td>\n",
       "      <td>1.294703</td>\n",
       "      <td>5.0</td>\n",
       "      <td>5.0</td>\n",
       "      <td>9.0</td>\n",
       "      <td>1.0</td>\n",
       "      <td>2.0</td>\n",
       "    </tr>\n",
       "    <tr>\n",
       "      <th>3267</th>\n",
       "      <td>1003</td>\n",
       "      <td>0</td>\n",
       "      <td>11363513</td>\n",
       "      <td>0</td>\n",
       "      <td>1</td>\n",
       "      <td>1.0</td>\n",
       "      <td>6.818082</td>\n",
       "      <td>5.147391</td>\n",
       "      <td>7.102618</td>\n",
       "      <td>1.990212</td>\n",
       "      <td>...</td>\n",
       "      <td>2.263507</td>\n",
       "      <td>5.242184</td>\n",
       "      <td>1.762740</td>\n",
       "      <td>3.467131</td>\n",
       "      <td>2.156332</td>\n",
       "      <td>6.0</td>\n",
       "      <td>6.0</td>\n",
       "      <td>17.0</td>\n",
       "      <td>1.0</td>\n",
       "      <td>1.0</td>\n",
       "    </tr>\n",
       "    <tr>\n",
       "      <th>3499</th>\n",
       "      <td>1003</td>\n",
       "      <td>0</td>\n",
       "      <td>105508795</td>\n",
       "      <td>0</td>\n",
       "      <td>1</td>\n",
       "      <td>1.0</td>\n",
       "      <td>7.061724</td>\n",
       "      <td>4.855172</td>\n",
       "      <td>7.605918</td>\n",
       "      <td>2.825251</td>\n",
       "      <td>...</td>\n",
       "      <td>1.998535</td>\n",
       "      <td>5.282082</td>\n",
       "      <td>0.853554</td>\n",
       "      <td>4.237533</td>\n",
       "      <td>2.690681</td>\n",
       "      <td>3.0</td>\n",
       "      <td>3.0</td>\n",
       "      <td>13.0</td>\n",
       "      <td>1.0</td>\n",
       "      <td>1.0</td>\n",
       "    </tr>\n",
       "    <tr>\n",
       "      <th>3905</th>\n",
       "      <td>1003</td>\n",
       "      <td>0</td>\n",
       "      <td>104204369</td>\n",
       "      <td>0</td>\n",
       "      <td>2</td>\n",
       "      <td>1.0</td>\n",
       "      <td>5.720975</td>\n",
       "      <td>5.263358</td>\n",
       "      <td>6.057264</td>\n",
       "      <td>1.990197</td>\n",
       "      <td>...</td>\n",
       "      <td>2.055063</td>\n",
       "      <td>5.272408</td>\n",
       "      <td>0.665094</td>\n",
       "      <td>3.550237</td>\n",
       "      <td>2.551468</td>\n",
       "      <td>6.0</td>\n",
       "      <td>6.0</td>\n",
       "      <td>15.0</td>\n",
       "      <td>1.0</td>\n",
       "      <td>2.0</td>\n",
       "    </tr>\n",
       "    <tr>\n",
       "      <th>...</th>\n",
       "      <th>...</th>\n",
       "      <td>...</td>\n",
       "      <td>...</td>\n",
       "      <td>...</td>\n",
       "      <td>...</td>\n",
       "      <td>...</td>\n",
       "      <td>...</td>\n",
       "      <td>...</td>\n",
       "      <td>...</td>\n",
       "      <td>...</td>\n",
       "      <td>...</td>\n",
       "      <td>...</td>\n",
       "      <td>...</td>\n",
       "      <td>...</td>\n",
       "      <td>...</td>\n",
       "      <td>...</td>\n",
       "      <td>...</td>\n",
       "      <td>...</td>\n",
       "      <td>...</td>\n",
       "      <td>...</td>\n",
       "      <td>...</td>\n",
       "      <td>...</td>\n",
       "    </tr>\n",
       "    <tr>\n",
       "      <th rowspan=\"5\" valign=\"top\">mixed</th>\n",
       "      <th>925064</th>\n",
       "      <td>1003</td>\n",
       "      <td>0</td>\n",
       "      <td>45919641</td>\n",
       "      <td>0</td>\n",
       "      <td>1</td>\n",
       "      <td>1.0</td>\n",
       "      <td>6.447587</td>\n",
       "      <td>5.213830</td>\n",
       "      <td>6.934826</td>\n",
       "      <td>2.553512</td>\n",
       "      <td>...</td>\n",
       "      <td>2.070826</td>\n",
       "      <td>5.251914</td>\n",
       "      <td>0.970061</td>\n",
       "      <td>2.504173</td>\n",
       "      <td>0.947731</td>\n",
       "      <td>5.0</td>\n",
       "      <td>5.0</td>\n",
       "      <td>14.0</td>\n",
       "      <td>1.0</td>\n",
       "      <td>1.0</td>\n",
       "    </tr>\n",
       "    <tr>\n",
       "      <th>926100</th>\n",
       "      <td>1003</td>\n",
       "      <td>0</td>\n",
       "      <td>38120756</td>\n",
       "      <td>0</td>\n",
       "      <td>3</td>\n",
       "      <td>1.0</td>\n",
       "      <td>6.237246</td>\n",
       "      <td>5.229721</td>\n",
       "      <td>6.488365</td>\n",
       "      <td>1.787637</td>\n",
       "      <td>...</td>\n",
       "      <td>2.023116</td>\n",
       "      <td>5.208943</td>\n",
       "      <td>1.477084</td>\n",
       "      <td>2.815908</td>\n",
       "      <td>1.874900</td>\n",
       "      <td>4.0</td>\n",
       "      <td>4.0</td>\n",
       "      <td>11.0</td>\n",
       "      <td>1.0</td>\n",
       "      <td>3.0</td>\n",
       "    </tr>\n",
       "    <tr>\n",
       "      <th>926203</th>\n",
       "      <td>1003</td>\n",
       "      <td>0</td>\n",
       "      <td>38121922</td>\n",
       "      <td>2</td>\n",
       "      <td>3</td>\n",
       "      <td>1.0</td>\n",
       "      <td>6.555681</td>\n",
       "      <td>4.976077</td>\n",
       "      <td>7.444742</td>\n",
       "      <td>3.528063</td>\n",
       "      <td>...</td>\n",
       "      <td>1.866986</td>\n",
       "      <td>5.272738</td>\n",
       "      <td>1.620211</td>\n",
       "      <td>2.833133</td>\n",
       "      <td>1.713932</td>\n",
       "      <td>7.0</td>\n",
       "      <td>7.0</td>\n",
       "      <td>16.0</td>\n",
       "      <td>3.0</td>\n",
       "      <td>3.0</td>\n",
       "    </tr>\n",
       "    <tr>\n",
       "      <th>929803</th>\n",
       "      <td>1003</td>\n",
       "      <td>0</td>\n",
       "      <td>43487052</td>\n",
       "      <td>1</td>\n",
       "      <td>2</td>\n",
       "      <td>1.0</td>\n",
       "      <td>6.872380</td>\n",
       "      <td>5.095205</td>\n",
       "      <td>7.075077</td>\n",
       "      <td>1.681403</td>\n",
       "      <td>...</td>\n",
       "      <td>2.738116</td>\n",
       "      <td>5.219024</td>\n",
       "      <td>1.778185</td>\n",
       "      <td>4.824384</td>\n",
       "      <td>2.488655</td>\n",
       "      <td>9.0</td>\n",
       "      <td>9.0</td>\n",
       "      <td>17.0</td>\n",
       "      <td>2.0</td>\n",
       "      <td>2.0</td>\n",
       "    </tr>\n",
       "    <tr>\n",
       "      <th>929835</th>\n",
       "      <td>1003</td>\n",
       "      <td>0</td>\n",
       "      <td>43487448</td>\n",
       "      <td>0</td>\n",
       "      <td>2</td>\n",
       "      <td>1.0</td>\n",
       "      <td>6.068558</td>\n",
       "      <td>5.221927</td>\n",
       "      <td>6.223501</td>\n",
       "      <td>1.380058</td>\n",
       "      <td>...</td>\n",
       "      <td>1.012304</td>\n",
       "      <td>5.210334</td>\n",
       "      <td>1.357723</td>\n",
       "      <td>3.287248</td>\n",
       "      <td>0.751908</td>\n",
       "      <td>7.0</td>\n",
       "      <td>7.0</td>\n",
       "      <td>14.0</td>\n",
       "      <td>1.0</td>\n",
       "      <td>2.0</td>\n",
       "    </tr>\n",
       "  </tbody>\n",
       "</table>\n",
       "<p>9933 rows × 256 columns</p>\n",
       "</div>"
      ],
      "text/plain": [
       "              __experiment__  __run__  __event__  __candidate__  \\\n",
       "uu    1999              1003        0    7114471              0   \n",
       "      2716              1003        0   78521346              0   \n",
       "      3267              1003        0   11363513              0   \n",
       "      3499              1003        0  105508795              0   \n",
       "      3905              1003        0  104204369              0   \n",
       "...                      ...      ...        ...            ...   \n",
       "mixed 925064            1003        0   45919641              0   \n",
       "      926100            1003        0   38120756              0   \n",
       "      926203            1003        0   38121922              2   \n",
       "      929803            1003        0   43487052              1   \n",
       "      929835            1003        0   43487448              0   \n",
       "\n",
       "              __ncandidates__  __weight__         M       Mbc         E  \\\n",
       "uu    1999                  1         1.0  6.549256  5.192681  7.051312   \n",
       "      2716                  2         1.0  6.655711  4.981682  7.224367   \n",
       "      3267                  1         1.0  6.818082  5.147391  7.102618   \n",
       "      3499                  1         1.0  7.061724  4.855172  7.605918   \n",
       "      3905                  2         1.0  5.720975  5.263358  6.057264   \n",
       "...                       ...         ...       ...       ...       ...   \n",
       "mixed 925064                1         1.0  6.447587  5.213830  6.934826   \n",
       "      926100                3         1.0  6.237246  5.229721  6.488365   \n",
       "      926203                3         1.0  6.555681  4.976077  7.444742   \n",
       "      929803                2         1.0  6.872380  5.095205  7.075077   \n",
       "      929835                2         1.0  6.068558  5.221927  6.223501   \n",
       "\n",
       "                     p  ...  Bsig_d0_roeP_cleanMask  Bsig_d0_roeMbc_cleanMask  \\\n",
       "uu    1999    2.613092  ...                2.080709                  5.246319   \n",
       "      2716    2.809447  ...                2.059720                  5.265025   \n",
       "      3267    1.990212  ...                2.263507                  5.242184   \n",
       "      3499    2.825251  ...                1.998535                  5.282082   \n",
       "      3905    1.990197  ...                2.055063                  5.272408   \n",
       "...                ...  ...                     ...                       ...   \n",
       "mixed 925064  2.553512  ...                2.070826                  5.251914   \n",
       "      926100  1.787637  ...                2.023116                  5.208943   \n",
       "      926203  3.528063  ...                1.866986                  5.272738   \n",
       "      929803  1.681403  ...                2.738116                  5.219024   \n",
       "      929835  1.380058  ...                1.012304                  5.210334   \n",
       "\n",
       "              Bsig_d0_roeDeltae_cleanMask  Bsig_d0_roeEextra_cleanMask  \\\n",
       "uu    1999                       1.274476                     2.390989   \n",
       "      2716                       0.990441                     2.864654   \n",
       "      3267                       1.762740                     3.467131   \n",
       "      3499                       0.853554                     4.237533   \n",
       "      3905                       0.665094                     3.550237   \n",
       "...                                   ...                          ...   \n",
       "mixed 925064                     0.970061                     2.504173   \n",
       "      926100                     1.477084                     2.815908   \n",
       "      926203                     1.620211                     2.833133   \n",
       "      929803                     1.778185                     4.824384   \n",
       "      929835                     1.357723                     3.287248   \n",
       "\n",
       "              Bsig_d0_roeNeextra_cleanMask  Bsig_d0_nROE_Tracks_cleanMask  \\\n",
       "uu    1999                        0.921048                            6.0   \n",
       "      2716                        1.294703                            5.0   \n",
       "      3267                        2.156332                            6.0   \n",
       "      3499                        2.690681                            3.0   \n",
       "      3905                        2.551468                            6.0   \n",
       "...                                    ...                            ...   \n",
       "mixed 925064                      0.947731                            5.0   \n",
       "      926100                      1.874900                            4.0   \n",
       "      926203                      1.713932                            7.0   \n",
       "      929803                      2.488655                            9.0   \n",
       "      929835                      0.751908                            7.0   \n",
       "\n",
       "              Bsig_d0_nROE_Charged_cleanMask  \\\n",
       "uu    1999                               6.0   \n",
       "      2716                               5.0   \n",
       "      3267                               6.0   \n",
       "      3499                               3.0   \n",
       "      3905                               6.0   \n",
       "...                                      ...   \n",
       "mixed 925064                             5.0   \n",
       "      926100                             4.0   \n",
       "      926203                             7.0   \n",
       "      929803                             9.0   \n",
       "      929835                             7.0   \n",
       "\n",
       "              Bsig_d0_nROE_ECLClusters_cleanMask  Btag_FEIProbabilityRank  \\\n",
       "uu    1999                                  10.0                      1.0   \n",
       "      2716                                   9.0                      1.0   \n",
       "      3267                                  17.0                      1.0   \n",
       "      3499                                  13.0                      1.0   \n",
       "      3905                                  15.0                      1.0   \n",
       "...                                          ...                      ...   \n",
       "mixed 925064                                14.0                      1.0   \n",
       "      926100                                11.0                      1.0   \n",
       "      926203                                16.0                      3.0   \n",
       "      929803                                17.0                      2.0   \n",
       "      929835                                14.0                      1.0   \n",
       "\n",
       "              nParticlesInList__boUpsilon__bo4S__bc__claftercut__bc  \n",
       "uu    1999                                                  1.0      \n",
       "      2716                                                  2.0      \n",
       "      3267                                                  1.0      \n",
       "      3499                                                  1.0      \n",
       "      3905                                                  2.0      \n",
       "...                                                         ...      \n",
       "mixed 925064                                                1.0      \n",
       "      926100                                                3.0      \n",
       "      926203                                                3.0      \n",
       "      929803                                                2.0      \n",
       "      929835                                                2.0      \n",
       "\n",
       "[9933 rows x 256 columns]"
      ]
     },
     "execution_count": 67,
     "metadata": {},
     "output_type": "execute_result"
    }
   ],
   "source": [
    "bkg_cut3[idx_bkg]"
   ]
  },
  {
   "cell_type": "code",
   "execution_count": 68,
   "id": "43d16842",
   "metadata": {},
   "outputs": [
    {
     "data": {
      "text/plain": [
       "0.19609906118484946"
      ]
     },
     "execution_count": 68,
     "metadata": {},
     "output_type": "execute_result"
    }
   ],
   "source": [
    "purity = len(group_sig_cut3) / (len(group_sig_cut3) + len(group_bkg_cut3))\n",
    "purity\n",
    "# 9938/5309416 = 0.001871.  0.187% of initial bkg is left.(99.813% bkg removed)"
   ]
  },
  {
   "cell_type": "code",
   "execution_count": 69,
   "id": "8261d57c",
   "metadata": {},
   "outputs": [],
   "source": [
    "av_groupSize_sig=4662/2677 "
   ]
  },
  {
   "cell_type": "code",
   "execution_count": 70,
   "id": "6b71efaf",
   "metadata": {},
   "outputs": [
    {
     "name": "stderr",
     "output_type": "stream",
     "text": [
      "/afs/desy.de/user/j/jjjy213/.local/lib/python3.6/site-packages/numpy/core/_asarray.py:83: VisibleDeprecationWarning: Creating an ndarray from ragged nested sequences (which is a list-or-tuple of lists-or-tuples-or ndarrays with different lengths or shapes) is deprecated. If you meant to do this, you must specify 'dtype=object' when creating the ndarray\n",
      "  return array(a, dtype, copy=False, order=order)\n"
     ]
    },
    {
     "data": {
      "image/png": "[encoded data removed]",
      "text/plain": [
       "<Figure size 1000x1000 with 1 Axes>"
      ]
     },
     "metadata": {
      "needs_background": "light"
     },
     "output_type": "display_data"
    }
   ],
   "source": [
    "var1 = wg1.HistVariable(\"Btag_FEIProbabilityRank\",\n",
    "                             n_bins=20,\n",
    "                             scope=(0, 10),\n",
    "                             var_name=\"Btag_FEIProbabilityRank\")\n",
    "\n",
    "\n",
    "hp1 = wg1.StackedHistogramPlot(var1)\n",
    "hp1.add_component(\"uubar\", uu, weights=uu.__weight__, color=TangoColors.slate,\n",
    "                  comp_type='stacked')\n",
    "hp1.add_component(\"ddbar\", dd, weights=dd.__weight__, color=TangoColors.sky_blue,\n",
    "                  comp_type='stacked')\n",
    "hp1.add_component(\"ssbar\", ss, weights=ss.__weight__, color=TangoColors.orange,\n",
    "                  comp_type='stacked')\n",
    "hp1.add_component(\"ccbar\", cc, weights=cc.__weight__, color=TangoColors.chameleon,\n",
    "                  comp_type='stacked')\n",
    "#hp1.add_component(\"taupair\", tau, weights=tau.__weight__, color=TangoColors.aluminium,\n",
    "#                  comp_type='stacked')\n",
    "hp1.add_component(\"mixed\", mixed, weights=mixed.__weight__, color=TangoColors.butter,\n",
    "                  comp_type='stacked')\n",
    "hp1.add_component(\"charged\", charged, weights=charged.__weight__, color=TangoColors.plum,\n",
    "                  comp_type='stacked')\n",
    "\n",
    "hp2 = wg1.SimpleHistogramPlot(var1)\n",
    "hp2.add_component(\"Signal\", sig, weights=sig.__weight__ *50,\n",
    "                  color=TangoColors.scarlet_red, ls='-.')\n",
    "\n",
    "fig, ax = wg1.create_solo_figure()\n",
    "hp1.plot_on(ax, ylabel=\"Candidates\")\n",
    "hp2.plot_on(ax, hide_labels=True)  # Hide labels to prevent overrides)\n",
    "\n",
    "plt.show()\n",
    "export(fig, 'combo', 'examples')\n",
    "plt.close()"
   ]
  },
  {
   "cell_type": "code",
   "execution_count": null,
   "id": "080732af",
   "metadata": {},
   "outputs": [],
   "source": []
  },
  {
   "cell_type": "code",
   "execution_count": null,
   "id": "8adcb439",
   "metadata": {},
   "outputs": [],
   "source": []
  },
  {
   "cell_type": "code",
   "execution_count": null,
   "id": "fb31dbc5",
   "metadata": {},
   "outputs": [],
   "source": []
  }
 ],
 "metadata": {
  "kernelspec": {
   "display_name": "Python 3 (Belle2)",
   "language": "python",
   "name": "python3"
  },
  "language_info": {
   "codemirror_mode": {
    "name": "ipython",
    "version": 3
   },
   "file_extension": ".py",
   "mimetype": "text/x-python",
   "name": "python",
   "nbconvert_exporter": "python",
   "pygments_lexer": "ipython3",
   "version": "3.6.10"
  }
 },
 "nbformat": 4,
 "nbformat_minor": 5
}
