{
 "cells": [
  {
   "cell_type": "code",
   "execution_count": 1,
   "id": "ee6c51a6",
   "metadata": {},
   "outputs": [
    {
     "name": "stdout",
     "output_type": "stream",
     "text": [
      "Welcome to JupyROOT 6.20/04\n"
     ]
    }
   ],
   "source": [
    "import ROOT as r\n",
    "\n",
    "# turns off popup plots\n",
    "#r.gROOT.SetBatch(True)\n",
    "\n"
   ]
  },
  {
   "cell_type": "code",
   "execution_count": 2,
   "id": "eb0567ed",
   "metadata": {},
   "outputs": [],
   "source": [
    "# for drawing plots later directly into the notebook\n",
    "c = r.TCanvas()"
   ]
  },
  {
   "cell_type": "code",
   "execution_count": 3,
   "id": "c872b839",
   "metadata": {},
   "outputs": [
    {
     "data": {
      "text/plain": [
       "1"
      ]
     },
     "execution_count": 3,
     "metadata": {},
     "output_type": "execute_result"
    }
   ],
   "source": [
    "chain1 = r.TChain()\n",
    "# arguments: filename, number of entries (-1 for all, or 1000 events), tree name\n",
    "chain1.AddFile(\"../jjjy213/sig_cut3_1000.root\", -1, \"my_ttree\")\n",
    "\n",
    "chain4 = r.TChain()\n",
    "chain4.AddFile(\"../jjjy213/bkg_cut3_1000.root\", -1, \"my_ttree\")\n"
   ]
  },
  {
   "cell_type": "code",
   "execution_count": 4,
   "id": "8f55551a",
   "metadata": {},
   "outputs": [
    {
     "data": {
      "text/plain": [
       "4099"
      ]
     },
     "execution_count": 4,
     "metadata": {},
     "output_type": "execute_result"
    }
   ],
   "source": [
    "chain1.GetEntries()"
   ]
  },
  {
   "cell_type": "code",
   "execution_count": 5,
   "id": "e63e6259",
   "metadata": {},
   "outputs": [
    {
     "data": {
      "text/plain": [
       "1"
      ]
     },
     "execution_count": 5,
     "metadata": {},
     "output_type": "execute_result"
    }
   ],
   "source": [
    "chain = r.TChain()\n",
    "# arguments: filename, number of entries (-1 for all), tree name\n",
    "chain.AddFile(\"../jjjy213/sig_cut3_1000.root\", -1, \"my_ttree\")\n",
    "chain.AddFile(\"../jjjy213/bkg_cut3_1000.root\", -1, \"my_ttree\")\n"
   ]
  },
  {
   "cell_type": "code",
   "execution_count": 6,
   "id": "e8d586a5",
   "metadata": {},
   "outputs": [
    {
     "name": "stdout",
     "output_type": "stream",
     "text": [
      "\n",
      "\u001b[1mRooFit v3.60 -- Developed by Wouter Verkerke and David Kirkby\u001b[0m \n",
      "                Copyright (C) 2000-2013 NIKHEF, University of California & Stanford University\n",
      "                All rights reserved, please read http://roofit.sourceforge.net/license.txt\n",
      "\n",
      "[#1] INFO:Eval -- RooTreeDataStore::loadValues(data) Ignored 6 out of range events\n",
      "[#1] INFO:Eval -- RooTreeDataStore::loadValues(data) Ignored 6 out of range events\n"
     ]
    }
   ],
   "source": [
    "missingEnergyOfEventCMS = r.RooRealVar(\"Bsig_d0_missingEnergyOfEventCMS\", \"Bsig_d0_missingEnergyOfEventCMS\", 3,  -1, 7)\n",
    "rds = r.RooDataSet(\"data\", \"B+#rightarrow K^{+}nunubar simulation\", chain, r.RooArgSet(missingEnergyOfEventCMS))\n",
    "rds_sig = r.RooDataSet(\"data\", \"B+#rightarrow K^{+}nunubar simulation\", chain1, r.RooArgSet(missingEnergyOfEventCMS))\n",
    "rds_bkg = r.RooDataSet(\"data\", \"B+#rightarrow K^{+}nunubar simulation\", chain4, r.RooArgSet(missingEnergyOfEventCMS))\n"
   ]
  },
  {
   "cell_type": "code",
   "execution_count": 7,
   "id": "9cb116f3",
   "metadata": {},
   "outputs": [],
   "source": [
    "mean_sig = r.RooRealVar(\"mean_gauss_1\", \"mean of gaussian\", 2.95, -1, 7)\n",
    "sigma_sig = r.RooRealVar(\"sigma_gauss_1\", \"width of gaussian\", 0.1, 0, 10)\n",
    "mean_sig2  = r.RooRealVar(\"mean_gauss_2\", \"mean of gaussian\", 3.69, -1, 7)\n",
    "sigma_sig2 = r.RooRealVar(\"sigma_gauss_2\", \"width of gaussian\", 0.1, 0, 10)\n",
    "\n",
    "#parameter_landau_sig = r.RooRealVar(\"mean_landau\", \"c parameter of landau\", 2.56, -9999, 9999)\n",
    "#sigma_landau_sig = r.RooRealVar(\"sigma_landau\", \"mu parameter of landau\", 0.4, 0.0001, 99999)\n",
    "\n",
    "\n",
    "mean_bkg = r.RooRealVar(\"mean_bkg\", \"mean of gaussian\", 2.91, -10, 10)\n",
    "sigma_bkg = r.RooRealVar(\"sigma_bkg\", \"width of gaussian\", 0.8, 0, 10)\n",
    "#mean_bkg2 = r.RooRealVar(\"mean_bkg\", \"mean of gaussian\", 3.0, -10, 10)\n",
    "#sigma_bkg2 = r.RooRealVar(\"sigma_bkg\", \"width of gaussian\", 0.75, 0, 10)\n",
    "\n",
    "#infinity = float(\"inf\")\n",
    "import math\n",
    "\n",
    "parameter_landau = r.RooRealVar(\"mean_landau\", \"c parameter of landau\", 2.56, -9999, 9999)\n",
    "sigma_landau = r.RooRealVar(\"sigma_landau\", \"mu parameter of landau\", 0.4, 0.0001, 99999)"
   ]
  },
  {
   "cell_type": "code",
   "execution_count": 8,
   "id": "5ddb79b0",
   "metadata": {},
   "outputs": [],
   "source": [
    "gauss_sig = r.RooGaussian(\"gauss\", \"gaussian PDF\", missingEnergyOfEventCMS, mean_sig, sigma_sig)\n",
    "gauss_sig2 = r.RooGaussian(\"gauss2\", \"gaussian PDF2\", missingEnergyOfEventCMS, mean_sig2, sigma_sig2)\n",
    "#landau_sig = r.RooLandau(\"landau_bkg\", \"landau PDF\", missingEnergyOfEventCMS, parameter_landau_sig, sigma_landau_sig)\n",
    "\n",
    "landau_bkg = r.RooLandau(\"landau_bkg\", \"landau PDF\", missingEnergyOfEventCMS, parameter_landau, sigma_landau)\n",
    "gauss_bkg = r.RooGaussian(\"gauss_bkg\", \"gaussian PDF_bkg\", missingEnergyOfEventCMS, mean_bkg, sigma_bkg)\n",
    "#gauss_bkg2 = r.RooGaussian(\"gauss_bkg\", \"gaussian PDF_bkg\", missingEnergyOfEventCMS, mean_bkg2, sigma_bkg2)"
   ]
  },
  {
   "cell_type": "code",
   "execution_count": 9,
   "id": "e3cbf04c",
   "metadata": {},
   "outputs": [],
   "source": [
    "sig2_frac = r.RooRealVar(\"sig2frac\", \"fraction of background(first one)\", 0.5, 0.0, 1.0)\n",
    "#sig_sum = r.RooAddPdf(\"sig_sum\", \"gauss + gauss2\", r.RooArgList(gauss_sig2, gauss_sig), r.RooArgList(sig2_frac))\n",
    "\n",
    "\n",
    "Nsig_1 = r.RooRealVar(\"Signal yield 1\",\"Signal yield 1\", 0.5, 0, 1)\n",
    "#Nsig_2 = r.RooRealVar(\"Signal yield 2\",\"Signal yield 2\", 3000, 0, 15000)\n",
    "\n",
    "sig_sum = r.RooAddPdf(\"sig_sum\", \"gauss + landau\", r.RooArgList(gauss_sig2, gauss_sig), r.RooArgList(Nsig_1))\n",
    "\n",
    "\n",
    "Nbkg_1 = r.RooRealVar(\"bkg yield 1\",\"bkg yield 1\", 0.5, 0, 1)\n",
    "#Nbkg_2 = r.RooRealVar(\"bkg yield 2\",\"bkg yield 2\", 15000, 0, 50000)\n",
    "\n",
    "bkg2_frac = r.RooRealVar(\"bkg2frac\", \"fraction of background(first one)\", 0.5, 0.0, 1.0)\n",
    "bkg_sum = r.RooAddPdf(\"bkg_sum\", \"gauss_bkg + landau\", r.RooArgList(landau_bkg, gauss_bkg), r.RooArgList(Nbkg_1))"
   ]
  },
  {
   "cell_type": "code",
   "execution_count": 10,
   "id": "6f3341e0",
   "metadata": {},
   "outputs": [],
   "source": [
    "# yield. Add them in model(pdf)\n",
    "\n",
    "# see ppt manual with search 'nsig'. For example, 195p.\n",
    "bkgfrac = r.RooRealVar(\"bkgfrac\", \"fraction of background(first one)\", 0.5, 0.0, 1.0)\n",
    "\n",
    "Nsig = r.RooRealVar(\"Signal yield\",\"Signal yield\", 500, 0, 99000)  \n",
    "Nbkg = r.RooRealVar(\"Bkg yield\",\"Background yield\", 7000, 0, 25000)  "
   ]
  },
  {
   "cell_type": "code",
   "execution_count": 11,
   "id": "415539a7",
   "metadata": {},
   "outputs": [],
   "source": [
    "model = r.RooAddPdf(\"bkg\", \"sig + bkg\", r.RooArgList(bkg_sum, sig_sum), r.RooArgList(Nbkg, Nsig))\n",
    "\n",
    "\n",
    "#model = r.RooAddPdf(\"bkg\", \"sig + bkg\", r.RooArgList(bkg_sum, sig_sum), r.RooArgList(bkgfrac))"
   ]
  },
  {
   "cell_type": "code",
   "execution_count": 12,
   "id": "f1622b85",
   "metadata": {
    "scrolled": false
   },
   "outputs": [
    {
     "data": {
      "text/plain": [
       "<ROOT.RooFitResult object at 0x(nil)>"
      ]
     },
     "execution_count": 12,
     "metadata": {},
     "output_type": "execute_result"
    },
    {
     "name": "stdout",
     "output_type": "stream",
     "text": [
      "[#1] INFO:Minization -- RooMinimizer::optimizeConst: activating const optimization\n",
      "[#1] INFO:Minization --  The following expressions will be evaluated in cache-and-track mode: (gauss2,gauss)\n",
      " **********\n",
      " **    1 **SET PRINT           1\n",
      " **********\n",
      " **********\n",
      " **    2 **SET NOGRAD\n",
      " **********\n",
      " PARAMETER DEFINITIONS:\n",
      "    NO.   NAME         VALUE      STEP SIZE      LIMITS\n",
      "     1 Signal yield 1   5.00000e-01  1.00000e-01    0.00000e+00  1.00000e+00\n",
      "     2 mean_gauss_1   2.95000e+00  8.00000e-01   -1.00000e+00  7.00000e+00\n",
      "     3 mean_gauss_2   3.69000e+00  8.00000e-01   -1.00000e+00  7.00000e+00\n",
      "     4 sigma_gauss_1   1.00000e-01  5.00000e-02    0.00000e+00  1.00000e+01\n",
      "     5 sigma_gauss_2   1.00000e-01  5.00000e-02    0.00000e+00  1.00000e+01\n",
      " **********\n",
      " **    3 **SET ERR         0.5\n",
      " **********\n",
      " **********\n",
      " **    4 **SET PRINT           1\n",
      " **********\n",
      " **********\n",
      " **    5 **SET STR           1\n",
      " **********\n",
      " NOW USING STRATEGY  1: TRY TO BALANCE SPEED AGAINST RELIABILITY\n",
      " **********\n",
      " **    6 **MIGRAD        2500           1\n",
      " **********\n",
      " FIRST CALL TO USER FUNCTION AT NEW START POINT, WITH IFLAG=4.\n",
      " START MIGRAD MINIMIZATION.  STRATEGY  1.  CONVERGENCE WHEN EDM .LT. 1.00e-03\n",
      " FCN=51299.7 FROM MIGRAD    STATUS=INITIATE       20 CALLS          21 TOTAL\n",
      "                     EDM= unknown      STRATEGY= 1      NO ERROR MATRIX       \n",
      "  EXT PARAMETER               CURRENT GUESS       STEP         FIRST   \n",
      "  NO.   NAME      VALUE            ERROR          SIZE      DERIVATIVE \n",
      "   1  Signal yield 1   5.00000e-01   1.00000e-01   2.01358e-01  -3.34893e+02\n",
      "   2  mean_gauss_1   2.95000e+00   8.00000e-01   2.01375e-01   9.58868e+04\n",
      "   3  mean_gauss_2   3.69000e+00   8.00000e-01   2.04602e-01  -2.80354e+05\n",
      "   4  sigma_gauss_1   1.00000e-01   5.00000e-02   5.20130e-02  -2.48999e+05\n",
      "   5  sigma_gauss_2   1.00000e-01   5.00000e-02   5.20130e-02  -7.89145e+05\n",
      "                               ERR DEF= 0.5\n",
      " MIGRAD MINIMIZATION HAS CONVERGED.\n",
      " MIGRAD WILL VERIFY CONVERGENCE AND ERROR MATRIX.\n",
      " COVARIANCE MATRIX CALCULATED SUCCESSFULLY\n",
      " FCN=4538.46 FROM MIGRAD    STATUS=CONVERGED     553 CALLS         554 TOTAL\n",
      "                     EDM=5.86619e-05    STRATEGY= 1      ERROR MATRIX ACCURATE \n",
      "  EXT PARAMETER                                   STEP         FIRST   \n",
      "  NO.   NAME      VALUE            ERROR          SIZE      DERIVATIVE \n",
      "   1  Signal yield 1   6.89697e-01   5.26611e-02   1.40910e-03  -8.74204e-02\n",
      "   2  mean_gauss_1   2.94706e+00   3.77520e-02   2.28729e-04  -3.36958e-01\n",
      "   3  mean_gauss_2   3.69853e+00   4.93598e-02   1.91010e-04   4.08413e-01\n",
      "   4  sigma_gauss_1   4.34317e-01   3.13473e-02   3.42447e-04  -4.24567e-01\n",
      "   5  sigma_gauss_2   7.35120e-01   1.60764e-02   1.95304e-04   5.80979e-01\n",
      "                               ERR DEF= 0.5\n",
      " EXTERNAL ERROR MATRIX.    NDIM=  25    NPAR=  5    ERR DEF=0.5\n",
      "  2.785e-03 -1.282e-03 -2.401e-03 -1.409e-03  3.560e-04 \n",
      " -1.282e-03  1.425e-03  8.221e-04  8.219e-04  1.011e-04 \n",
      " -2.401e-03  8.221e-04  2.437e-03  1.165e-03 -4.329e-04 \n",
      " -1.409e-03  8.219e-04  1.165e-03  9.827e-04 -1.578e-04 \n",
      "  3.560e-04  1.011e-04 -4.329e-04 -1.578e-04  2.585e-04 \n",
      " PARAMETER  CORRELATION COEFFICIENTS  \n",
      "       NO.  GLOBAL      1      2      3      4      5\n",
      "        1  0.96408   1.000 -0.643 -0.922 -0.852  0.420\n",
      "        2  0.85330  -0.643  1.000  0.441  0.694  0.167\n",
      "        3  0.94489  -0.922  0.441  1.000  0.753 -0.546\n",
      "        4  0.87767  -0.852  0.694  0.753  1.000 -0.313\n",
      "        5  0.73235   0.420  0.167 -0.546 -0.313  1.000\n",
      " **********\n",
      " **    7 **SET ERR         0.5\n",
      " **********\n",
      " **********\n",
      " **    8 **SET PRINT           1\n",
      " **********\n",
      " **********\n",
      " **    9 **HESSE        2500\n",
      " **********\n",
      " COVARIANCE MATRIX CALCULATED SUCCESSFULLY\n",
      " FCN=4538.46 FROM HESSE     STATUS=OK             31 CALLS         585 TOTAL\n",
      "                     EDM=5.90326e-05    STRATEGY= 1      ERROR MATRIX ACCURATE \n",
      "  EXT PARAMETER                                INTERNAL      INTERNAL  \n",
      "  NO.   NAME      VALUE            ERROR       STEP SIZE       VALUE   \n",
      "   1  Signal yield 1   6.89697e-01   5.36261e-02   2.81820e-04   3.89141e-01\n",
      "   2  mean_gauss_1   2.94706e+00   3.82018e-02   4.57458e-05  -1.32356e-02\n",
      "   3  mean_gauss_2   3.69853e+00   5.00640e-02   3.82020e-05   1.75531e-01\n",
      "   4  sigma_gauss_1   4.34317e-01   3.19250e-02   6.84895e-05  -1.15091e+00\n",
      "   5  sigma_gauss_2   7.35120e-01   1.61256e-02   3.90608e-05  -1.02166e+00\n",
      "                               ERR DEF= 0.5\n",
      " EXTERNAL ERROR MATRIX.    NDIM=  25    NPAR=  5    ERR DEF=0.5\n",
      "  2.889e-03 -1.343e-03 -2.486e-03 -1.471e-03  3.683e-04 \n",
      " -1.343e-03  1.459e-03  8.738e-04  8.570e-04  9.358e-05 \n",
      " -2.486e-03  8.738e-04  2.507e-03  1.217e-03 -4.432e-04 \n",
      " -1.471e-03  8.570e-04  1.217e-03  1.019e-03 -1.657e-04 \n",
      "  3.683e-04  9.358e-05 -4.432e-04 -1.657e-04  2.600e-04 \n",
      " PARAMETER  CORRELATION COEFFICIENTS  \n",
      "       NO.  GLOBAL      1      2      3      4      5\n",
      "        1  0.96539   1.000 -0.654 -0.924 -0.857  0.425\n",
      "        2  0.85702  -0.654  1.000  0.457  0.703  0.152\n",
      "        3  0.94648  -0.924  0.457  1.000  0.762 -0.549\n",
      "        4  0.88235  -0.857  0.703  0.762  1.000 -0.322\n",
      "        5  0.73428   0.425  0.152 -0.549 -0.322  1.000\n",
      "[#1] INFO:Minization -- RooMinimizer::optimizeConst: deactivating const optimization\n"
     ]
    }
   ],
   "source": [
    "sig_sum.fitTo(rds_sig)"
   ]
  },
  {
   "cell_type": "code",
   "execution_count": 13,
   "id": "10840b59",
   "metadata": {},
   "outputs": [
    {
     "name": "stdout",
     "output_type": "stream",
     "text": [
      "RooRealVar::mean_gauss_1 = 2.94706 +/- 0.0382018  L(-1 - 7) \n",
      "RooRealVar::mean_gauss_2 = 3.69853 +/- 0.050064  L(-1 - 7) \n",
      "RooRealVar::sigma_gauss_1 = 0.434317 +/- 0.031925  L(0 - 10) \n",
      "RooRealVar::sigma_gauss_2 = 0.73512 +/- 0.0161256  L(0 - 10) \n"
     ]
    }
   ],
   "source": [
    "mean_sig.Print()\n",
    "mean_sig2.Print()\n",
    "sigma_sig.Print()\n",
    "sigma_sig2.Print()\n",
    "#sig2_frac.Print()"
   ]
  },
  {
   "cell_type": "code",
   "execution_count": 14,
   "id": "257778ab",
   "metadata": {},
   "outputs": [
    {
     "name": "stdout",
     "output_type": "stream",
     "text": [
      "RooRealVar::Signal yield 1 = 0.689697 +/- 0.0536261 C  L(0 - 1) \n",
      "\n"
     ]
    }
   ],
   "source": [
    "mean_sig.setConstant(True)\n",
    "sigma_sig.setConstant(True)\n",
    "mean_sig2.setConstant(True)\n",
    "sigma_sig2.setConstant(True)\n",
    "Nsig_1.setConstant(True)\n",
    "print(Nsig_1)"
   ]
  },
  {
   "cell_type": "code",
   "execution_count": 15,
   "id": "72c7869f",
   "metadata": {
    "scrolled": true
   },
   "outputs": [
    {
     "data": {
      "text/plain": [
       "<ROOT.RooFitResult object at 0x(nil)>"
      ]
     },
     "execution_count": 15,
     "metadata": {},
     "output_type": "execute_result"
    },
    {
     "name": "stdout",
     "output_type": "stream",
     "text": [
      "[#1] INFO:NumericIntegration -- RooRealIntegral::init(landau_bkg_Int[Bsig_d0_missingEnergyOfEventCMS]) using numeric integrator RooIntegrator1D to calculate Int(Bsig_d0_missingEnergyOfEventCMS)\n",
      "[#1] INFO:Minization -- RooMinimizer::optimizeConst: activating const optimization\n",
      "[#1] INFO:NumericIntegration -- RooRealIntegral::init(landau_bkg_Int[Bsig_d0_missingEnergyOfEventCMS]) using numeric integrator RooIntegrator1D to calculate Int(Bsig_d0_missingEnergyOfEventCMS)\n",
      "[#1] INFO:Minization --  The following expressions will be evaluated in cache-and-track mode: (landau_bkg,gauss_bkg)\n",
      " **********\n",
      " **   10 **SET PRINT           1\n",
      " **********\n",
      " **********\n",
      " **   11 **SET NOGRAD\n",
      " **********\n",
      " PARAMETER DEFINITIONS:\n",
      "    NO.   NAME         VALUE      STEP SIZE      LIMITS\n",
      "     1 bkg yield 1   5.00000e-01  1.00000e-01    0.00000e+00  1.00000e+00\n",
      "     2 mean_bkg     2.91000e+00  2.00000e+00   -1.00000e+01  1.00000e+01\n",
      "     3 mean_landau   2.56000e+00  1.99980e+03   -9.99900e+03  9.99900e+03\n",
      "     4 sigma_bkg    8.00000e-01  4.00000e-01    0.00000e+00  1.00000e+01\n",
      "     5 sigma_landau   4.00000e-01  1.99950e-01    1.00000e-04  9.99990e+04\n",
      " **********\n",
      " **   12 **SET ERR         0.5\n",
      " **********\n",
      " **********\n",
      " **   13 **SET PRINT           1\n",
      " **********\n",
      " **********\n",
      " **   14 **SET STR           1\n",
      " **********\n",
      " NOW USING STRATEGY  1: TRY TO BALANCE SPEED AGAINST RELIABILITY\n",
      " **********\n",
      " **   15 **MIGRAD        2500           1\n",
      " **********\n",
      " FIRST CALL TO USER FUNCTION AT NEW START POINT, WITH IFLAG=4.\n",
      " START MIGRAD MINIMIZATION.  STRATEGY  1.  CONVERGENCE WHEN EDM .LT. 1.00e-03\n",
      " FCN=20368.6 FROM MIGRAD    STATUS=INITIATE       22 CALLS          23 TOTAL\n",
      "                     EDM= unknown      STRATEGY= 1      NO ERROR MATRIX       \n",
      "  EXT PARAMETER               CURRENT GUESS       STEP         FIRST   \n",
      "  NO.   NAME      VALUE            ERROR          SIZE      DERIVATIVE \n",
      "   1  bkg yield 1   5.00000e-01   1.00000e-01   2.01358e-01   8.78530e+02\n",
      "   2  mean_bkg     2.91000e+00   2.00000e+00   2.11056e-01   6.22608e+03\n",
      "   3  mean_landau   2.56000e+00   1.99980e+03   2.01358e-01   1.60134e+06\n",
      "   4  sigma_bkg    8.00000e-01   4.00000e-01   1.52384e-01  -1.72091e+03\n",
      "   5  sigma_landau   4.00000e-01   1.99950e-01   1.03515e-03   1.48918e+04\n",
      "                               ERR DEF= 0.5\n",
      " MIGRAD FAILS TO FIND IMPROVEMENT\n",
      " COVARIANCE MATRIX CALCULATED SUCCESSFULLY\n",
      " FCN=20049.6 FROM HESSE     STATUS=OK             33 CALLS         186 TOTAL\n",
      "                     EDM=0.114583    STRATEGY= 1      ERROR MATRIX ACCURATE \n",
      "  EXT PARAMETER                                   STEP         FIRST   \n",
      "  NO.   NAME      VALUE            ERROR          SIZE      DERIVATIVE \n",
      "   1  bkg yield 1   1.65092e-01   1.19615e-02   2.85110e-03   1.59209e+00\n",
      "   2  mean_bkg     2.91016e+00   1.49718e-02   7.99463e-05   1.75998e+02\n",
      "   3  mean_landau   2.59623e+00   8.38107e-02   7.02190e-08   7.88613e+04\n",
      "   4  sigma_bkg    8.13865e-01   6.02147e-03   2.07072e-04  -8.66127e+01\n",
      "   5  sigma_landau   4.08500e-01   3.71874e-03   2.98180e-06  -2.37524e+03\n",
      "                               ERR DEF= 0.5\n",
      " MIGRAD MINIMIZATION HAS CONVERGED.\n",
      " FCN=20049.5 FROM MIGRAD    STATUS=CONVERGED     240 CALLS         241 TOTAL\n",
      "                     EDM=4.33738e-05    STRATEGY= 1  ERROR MATRIX UNCERTAINTY   3.1 per cent\n",
      "  EXT PARAMETER                                   STEP         FIRST   \n",
      "  NO.   NAME      VALUE            ERROR          SIZE      DERIVATIVE \n",
      "   1  bkg yield 1   1.63801e-01   1.33194e-02   5.22461e-04   1.42603e-01\n",
      "   2  mean_bkg     2.91498e+00   1.46557e-02  -5.18030e-05  -1.27719e+00\n",
      "   3  mean_landau   2.55883e+00   8.07753e-02   6.08760e-07  -3.78977e+02\n",
      "   4  sigma_bkg    8.12534e-01   9.05970e-03  -1.66818e-04  -2.45418e+00\n",
      "   5  sigma_landau   4.21658e-01   3.96859e-02   1.27169e-05  -3.06633e+01\n",
      "                               ERR DEF= 0.5\n",
      " EXTERNAL ERROR MATRIX.    NDIM=  25    NPAR=  5    ERR DEF=0.5\n",
      "  1.775e-04 -6.667e-06 -1.393e-04  3.128e-05 -2.596e-04 \n",
      " -6.667e-06  2.148e-04 -9.707e-04 -4.367e-06  8.540e-05 \n",
      " -1.393e-04 -9.707e-04  6.525e-03  1.070e-04 -5.353e-04 \n",
      "  3.128e-05 -4.367e-06  1.070e-04  8.208e-05 -2.721e-04 \n",
      " -2.596e-04  8.540e-05 -5.353e-04 -2.721e-04  1.575e-03 \n",
      " PARAMETER  CORRELATION COEFFICIENTS  \n",
      "       NO.  GLOBAL      1      2      3      4      5\n",
      "        1  0.59562   1.000 -0.034 -0.129  0.259 -0.491\n",
      "        2  0.84346  -0.034  1.000 -0.820 -0.033  0.147\n",
      "        3  0.85172  -0.129 -0.820  1.000  0.146 -0.167\n",
      "        4  0.77966   0.259 -0.033  0.146  1.000 -0.757\n",
      "        5  0.82462  -0.491  0.147 -0.167 -0.757  1.000\n",
      " **********\n",
      " **   16 **SET ERR         0.5\n",
      " **********\n",
      " **********\n",
      " **   17 **SET PRINT           1\n",
      " **********\n",
      " **********\n",
      " **   18 **HESSE        2500\n",
      " **********\n",
      " COVARIANCE MATRIX CALCULATED SUCCESSFULLY\n",
      " FCN=20049.5 FROM HESSE     STATUS=OK             31 CALLS         272 TOTAL\n",
      "                     EDM=8.06777e-05    STRATEGY= 1      ERROR MATRIX ACCURATE \n",
      "  EXT PARAMETER                                INTERNAL      INTERNAL  \n",
      "  NO.   NAME      VALUE            ERROR       STEP SIZE       VALUE   \n",
      "   1  bkg yield 1   1.63801e-01   1.37085e-02   2.83917e-03  -7.37443e-01\n",
      "   2  mean_bkg     2.91498e+00   1.44904e-02   7.96325e-05   2.95793e-01\n",
      "   3  mean_landau   2.55883e+00   8.13646e-02   4.10737e-07   2.55908e-04\n",
      "   4  sigma_bkg    8.12534e-01   9.03393e-03   2.06319e-04  -9.92679e-01\n",
      "   5  sigma_landau   4.21658e-01   3.97969e-02   1.06961e-05  -1.56669e+00\n",
      "                               ERR DEF= 0.5\n",
      " EXTERNAL ERROR MATRIX.    NDIM=  25    NPAR=  5    ERR DEF=0.5\n",
      "  1.880e-04  5.994e-06 -2.171e-04  3.002e-05 -2.784e-04 \n",
      "  5.994e-06  2.100e-04 -9.728e-04 -6.430e-06  6.350e-05 \n",
      " -2.171e-04 -9.728e-04  6.620e-03  1.047e-04 -3.619e-04 \n",
      "  3.002e-05 -6.430e-06  1.047e-04  8.161e-05 -2.678e-04 \n",
      " -2.784e-04  6.350e-05 -3.619e-04 -2.678e-04  1.584e-03 \n",
      " PARAMETER  CORRELATION COEFFICIENTS  \n",
      "       NO.  GLOBAL      1      2      3      4      5\n",
      "        1  0.62464   1.000  0.030 -0.195  0.242 -0.510\n",
      "        2  0.84330   0.030  1.000 -0.825 -0.049  0.110\n",
      "        3  0.85563  -0.195 -0.825  1.000  0.142 -0.112\n",
      "        4  0.76997   0.242 -0.049  0.142  1.000 -0.745\n",
      "        5  0.82406  -0.510  0.110 -0.112 -0.745  1.000\n",
      "[#1] INFO:Minization -- RooMinimizer::optimizeConst: deactivating const optimization\n"
     ]
    }
   ],
   "source": [
    "bkg_sum.fitTo(rds_bkg)"
   ]
  },
  {
   "cell_type": "code",
   "execution_count": 16,
   "id": "c3c2b1b6",
   "metadata": {},
   "outputs": [
    {
     "name": "stdout",
     "output_type": "stream",
     "text": [
      "RooRealVar::mean_landau = 2.55883 +/- 0.0813646  L(-9999 - 9999) \n",
      "RooRealVar::sigma_landau = 0.421658 +/- 0.0397969  L(0.0001 - 99999) \n",
      "RooRealVar::mean_bkg = 2.91498 +/- 0.0144904  L(-10 - 10) \n",
      "RooRealVar::sigma_bkg = 0.812534 +/- 0.00903393  L(0 - 10) \n"
     ]
    }
   ],
   "source": [
    "parameter_landau.Print()\n",
    "sigma_landau.Print()\n",
    "mean_bkg.Print()\n",
    "sigma_bkg.Print()"
   ]
  },
  {
   "cell_type": "code",
   "execution_count": 17,
   "id": "14cbd1d2",
   "metadata": {},
   "outputs": [],
   "source": [
    "parameter_landau.setConstant(True)\n",
    "#sigma_landau.setConstant(True)\n",
    "mean_bkg.setConstant(True)\n",
    "#sigma_bkg.setConstant(True)\n",
    "Nbkg_1.setConstant(True)\n"
   ]
  },
  {
   "cell_type": "code",
   "execution_count": 18,
   "id": "14bbcc2b",
   "metadata": {},
   "outputs": [
    {
     "data": {
      "image/png": "[encoded data removed]",
      "text/plain": [
       "<IPython.core.display.Image object>"
      ]
     },
     "metadata": {},
     "output_type": "display_data"
    }
   ],
   "source": [
    "# only signal \n",
    "debug = missingEnergyOfEventCMS.frame()\n",
    "debug.SetTitle(\"Signal fit, pdf = gauss1 + gauss2\")\n",
    "rds_sig.plotOn(debug, r.RooFit.LineColor(r.kGreen))\n",
    "\n",
    "sig_sum.plotOn(debug, r.RooFit.LineColor(r.kGreen))\n",
    "debug.Draw()\n",
    "c.Draw()\n"
   ]
  },
  {
   "cell_type": "code",
   "execution_count": 19,
   "id": "f2ff4da9",
   "metadata": {},
   "outputs": [
    {
     "name": "stdout",
     "output_type": "stream",
     "text": [
      "[#1] INFO:NumericIntegration -- RooRealIntegral::init(landau_bkg_Int[Bsig_d0_missingEnergyOfEventCMS]) using numeric integrator RooIntegrator1D to calculate Int(Bsig_d0_missingEnergyOfEventCMS)\n"
     ]
    },
    {
     "data": {
      "image/png": "[encoded data removed]",
      "text/plain": [
       "<IPython.core.display.Image object>"
      ]
     },
     "metadata": {},
     "output_type": "display_data"
    }
   ],
   "source": [
    "# only bkg \n",
    "debug = missingEnergyOfEventCMS.frame()\n",
    "debug.SetTitle(\"Bkg fit, pdf = gauss + landau\")\n",
    "\n",
    "rds_bkg.plotOn(debug)\n",
    "\n",
    "bkg_sum.plotOn(debug)\n",
    "\n",
    "debug.Draw()\n",
    "c.Draw()\n",
    "\n"
   ]
  },
  {
   "cell_type": "code",
   "execution_count": 20,
   "id": "23153f19",
   "metadata": {
    "scrolled": true
   },
   "outputs": [
    {
     "data": {
      "text/plain": [
       "<ROOT.RooFitResult object at 0x(nil)>"
      ]
     },
     "execution_count": 20,
     "metadata": {},
     "output_type": "execute_result"
    },
    {
     "name": "stdout",
     "output_type": "stream",
     "text": [
      "[#1] INFO:Minization -- p.d.f. provides expected number of events, including extended term in likelihood.\n",
      "[#1] INFO:NumericIntegration -- RooRealIntegral::init(landau_bkg_Int[Bsig_d0_missingEnergyOfEventCMS]) using numeric integrator RooIntegrator1D to calculate Int(Bsig_d0_missingEnergyOfEventCMS)\n",
      "[#1] INFO:Minization -- RooMinimizer::optimizeConst: activating const optimization\n",
      "[#1] INFO:NumericIntegration -- RooRealIntegral::init(landau_bkg_Int[Bsig_d0_missingEnergyOfEventCMS]) using numeric integrator RooIntegrator1D to calculate Int(Bsig_d0_missingEnergyOfEventCMS)\n",
      "[#1] INFO:Minization --  The following expressions have been identified as constant and will be precalculated and cached: (sig_sum)\n",
      "[#1] INFO:Minization --  The following expressions will be evaluated in cache-and-track mode: (landau_bkg,gauss_bkg)\n",
      " **********\n",
      " **    1 **SET PRINT           1\n",
      " **********\n",
      " **********\n",
      " **    2 **SET NOGRAD\n",
      " **********\n",
      " PARAMETER DEFINITIONS:\n",
      "    NO.   NAME         VALUE      STEP SIZE      LIMITS\n",
      "     1 Bkg yield    7.00000e+03  2.50000e+03    0.00000e+00  2.50000e+04\n",
      "     2 Signal yield   5.00000e+02  2.50000e+02    0.00000e+00  9.90000e+04\n",
      "     3 sigma_bkg    8.12534e-01  9.03393e-03    0.00000e+00  1.00000e+01\n",
      "     4 sigma_landau   4.21658e-01  3.97969e-02    1.00000e-04  9.99990e+04\n",
      " **********\n",
      " **    3 **SET ERR         0.5\n",
      " **********\n",
      " **********\n",
      " **    4 **SET PRINT           1\n",
      " **********\n",
      " **********\n",
      " **    5 **SET STR           1\n",
      " **********\n",
      " NOW USING STRATEGY  1: TRY TO BALANCE SPEED AGAINST RELIABILITY\n",
      " **********\n",
      " **    6 **MIGRAD        2000           1\n",
      " **********\n",
      " FIRST CALL TO USER FUNCTION AT NEW START POINT, WITH IFLAG=4.\n",
      " START MIGRAD MINIMIZATION.  STRATEGY  1.  CONVERGENCE WHEN EDM .LT. 1.00e-03\n",
      " FCN=-150928 FROM MIGRAD    STATUS=INITIATE       37 CALLS          38 TOTAL\n",
      "                     EDM= unknown      STRATEGY= 1      NO ERROR MATRIX       \n",
      "  EXT PARAMETER               CURRENT GUESS       STEP         FIRST   \n",
      "  NO.   NAME      VALUE            ERROR          SIZE      DERIVATIVE \n",
      "   1  Bkg yield    7.00000e+03   2.50000e+03   0.00000e+00  -2.52661e+03\n",
      "   2  Signal yield   1.12661e+04   2.50000e+02   5.45927e-01  -1.57144e+02\n",
      "   3  sigma_bkg    8.12534e-01   9.03393e-03   0.00000e+00  -2.57081e+03\n",
      "   4  sigma_landau   4.21658e-01   3.97969e-02   0.00000e+00  -5.66323e+04\n",
      "                               ERR DEF= 0.5\n",
      " MIGRAD MINIMIZATION HAS CONVERGED.\n",
      " FCN=-151725 FROM MIGRAD    STATUS=CONVERGED     129 CALLS         130 TOTAL\n",
      "                     EDM=4.14716e-07    STRATEGY= 1  ERROR MATRIX UNCERTAINTY   2.6 per cent\n",
      "  EXT PARAMETER                                   STEP         FIRST   \n",
      "  NO.   NAME      VALUE            ERROR          SIZE      DERIVATIVE \n",
      "   1  Bkg yield    1.55937e+04   2.42613e+02  -9.02628e-05  -6.26689e-02\n",
      "   2  Signal yield   4.30424e+03   2.19294e+02  -2.26042e-05  -9.69273e-02\n",
      "   3  sigma_bkg    8.10827e-01   8.58305e-03  -2.36678e-05  -6.15277e-02\n",
      "   4  sigma_landau   4.08648e-01   3.29232e-02   1.38390e-06   2.00362e+00\n",
      "                               ERR DEF= 0.5\n",
      " EXTERNAL ERROR MATRIX.    NDIM=  25    NPAR=  4    ERR DEF=0.5\n",
      "  5.887e+04 -4.355e+04  1.037e-01 -5.806e-01 \n",
      " -4.355e+04  4.809e+04 -1.014e-01  5.774e-01 \n",
      "  1.037e-01 -1.014e-01  7.367e-05 -1.914e-04 \n",
      " -5.806e-01  5.774e-01 -1.914e-04  1.084e-03 \n",
      " PARAMETER  CORRELATION COEFFICIENTS  \n",
      "       NO.  GLOBAL      1      2      3      4\n",
      "        1  0.81848   1.000 -0.818  0.050 -0.073\n",
      "        2  0.81871  -0.818  1.000 -0.054  0.080\n",
      "        3  0.67729   0.050 -0.054  1.000 -0.677\n",
      "        4  0.67871  -0.073  0.080 -0.677  1.000\n",
      " **********\n",
      " **    7 **SET ERR         0.5\n",
      " **********\n",
      " **********\n",
      " **    8 **SET PRINT           1\n",
      " **********\n",
      " **********\n",
      " **    9 **HESSE        2000\n",
      " **********\n",
      " COVARIANCE MATRIX CALCULATED SUCCESSFULLY\n",
      " FCN=-151725 FROM HESSE     STATUS=OK             31 CALLS         161 TOTAL\n",
      "                     EDM=1.08439e-06    STRATEGY= 1      ERROR MATRIX ACCURATE \n",
      "  EXT PARAMETER                                INTERNAL      INTERNAL  \n",
      "  NO.   NAME      VALUE            ERROR       STEP SIZE       VALUE   \n",
      "   1  Bkg yield    1.55937e+04   2.45162e+02   3.10332e-03   2.50093e-01\n",
      "   2  Signal yield   4.30424e+03   2.21206e+02   1.67840e-03  -1.15069e+00\n",
      "   3  sigma_bkg    8.10827e-01   8.59253e-03   6.23534e-04  -9.93305e-01\n",
      "   4  sigma_landau   4.08648e-01   3.29244e-02   3.21999e-05  -1.56675e+00\n",
      "                               ERR DEF= 0.5\n",
      " EXTERNAL ERROR MATRIX.    NDIM=  25    NPAR=  4    ERR DEF=0.5\n",
      "  6.011e+04 -4.457e+04  9.037e-02 -5.731e-01 \n",
      " -4.457e+04  4.893e+04 -9.040e-02  5.740e-01 \n",
      "  9.037e-02 -9.040e-02  7.383e-05 -1.914e-04 \n",
      " -5.731e-01  5.740e-01 -1.914e-04  1.084e-03 \n",
      " PARAMETER  CORRELATION COEFFICIENTS  \n",
      "       NO.  GLOBAL      1      2      3      4\n",
      "        1  0.82175   1.000 -0.822  0.043 -0.071\n",
      "        2  0.82198  -0.822  1.000 -0.048  0.079\n",
      "        3  0.67657   0.043 -0.048  1.000 -0.677\n",
      "        4  0.67818  -0.071  0.079 -0.677  1.000\n",
      "[#1] INFO:Minization -- RooMinimizer::optimizeConst: deactivating const optimization\n"
     ]
    }
   ],
   "source": [
    "model.fitTo(rds)"
   ]
  },
  {
   "cell_type": "code",
   "execution_count": 21,
   "id": "8c504774",
   "metadata": {},
   "outputs": [
    {
     "name": "stdout",
     "output_type": "stream",
     "text": [
      "RooRealVar::Signal yield 1 = 0.689697 +/- 0.0536261 C  L(0 - 1) \n",
      "\n"
     ]
    }
   ],
   "source": [
    "print(Nsig_1)"
   ]
  },
  {
   "cell_type": "code",
   "execution_count": 22,
   "id": "dbd983e8",
   "metadata": {},
   "outputs": [],
   "source": [
    "# Summary of fit result\n",
    "# COVARIANCE MATRIX CALCULATED SUCCESSFULLY\n",
    "# bkg yield: 1304640 (correct: 1292312)\n",
    "# signal yield: 36932 (correct: isSignal=1 case 38532)"
   ]
  },
  {
   "cell_type": "code",
   "execution_count": 23,
   "id": "e95975c4",
   "metadata": {},
   "outputs": [
    {
     "name": "stdout",
     "output_type": "stream",
     "text": [
      "RooRealVar::mean_gauss_1 = 2.94706 +/- 0.0382018 C  L(-1 - 7) \n",
      "RooRealVar::mean_gauss_2 = 3.69853 +/- 0.050064 C  L(-1 - 7) \n",
      "RooRealVar::sigma_gauss_1 = 0.434317 +/- 0.031925 C  L(0 - 10) \n",
      "RooRealVar::sigma_gauss_2 = 0.73512 +/- 0.0161256 C  L(0 - 10) \n"
     ]
    }
   ],
   "source": [
    "mean_sig.Print()\n",
    "mean_sig2.Print()\n",
    "sigma_sig.Print()\n",
    "sigma_sig2.Print()"
   ]
  },
  {
   "cell_type": "code",
   "execution_count": 24,
   "id": "116af974",
   "metadata": {},
   "outputs": [
    {
     "name": "stdout",
     "output_type": "stream",
     "text": [
      "RooRealVar::mean_landau = 2.55883 +/- 0.0813646 C  L(-9999 - 9999) \n",
      "RooRealVar::sigma_landau = 0.408648 +/- 0.0329244  L(0.0001 - 99999) \n",
      "RooRealVar::mean_bkg = 2.91498 +/- 0.0144904 C  L(-10 - 10) \n",
      "RooRealVar::sigma_bkg = 0.810827 +/- 0.00859253  L(0 - 10) \n"
     ]
    }
   ],
   "source": [
    "parameter_landau.Print()\n",
    "sigma_landau.Print()\n",
    "mean_bkg.Print()\n",
    "sigma_bkg.Print()\n"
   ]
  },
  {
   "cell_type": "code",
   "execution_count": 25,
   "id": "4a60b74e",
   "metadata": {},
   "outputs": [
    {
     "name": "stdout",
     "output_type": "stream",
     "text": [
      "[#1] INFO:NumericIntegration -- RooRealIntegral::init(landau_bkg_Int[Bsig_d0_missingEnergyOfEventCMS]) using numeric integrator RooIntegrator1D to calculate Int(Bsig_d0_missingEnergyOfEventCMS)\n",
      "[#1] INFO:Plotting -- RooAbsPdf::plotOn(bkg) directly selected PDF components: (bkg_sum)\n",
      "[#1] INFO:Plotting -- RooAbsPdf::plotOn(bkg) indirectly selected PDF components: (landau_bkg,gauss_bkg)\n",
      "[#1] INFO:NumericIntegration -- RooRealIntegral::init(landau_bkg_Int[Bsig_d0_missingEnergyOfEventCMS]) using numeric integrator RooIntegrator1D to calculate Int(Bsig_d0_missingEnergyOfEventCMS)\n",
      "[#1] INFO:Plotting -- RooAbsPdf::plotOn(bkg) directly selected PDF components: (sig_sum)\n",
      "[#1] INFO:Plotting -- RooAbsPdf::plotOn(bkg) indirectly selected PDF components: (gauss2,gauss)\n",
      "[#1] INFO:NumericIntegration -- RooRealIntegral::init(landau_bkg_Int[Bsig_d0_missingEnergyOfEventCMS]) using numeric integrator RooIntegrator1D to calculate Int(Bsig_d0_missingEnergyOfEventCMS)\n"
     ]
    },
    {
     "name": "stderr",
     "output_type": "stream",
     "text": [
      "Warning in <TROOT::Append>: Replacing existing TH1: data (Potential memory leak).\n",
      "Warning in <TROOT::Append>: Replacing existing TH1: data (Potential memory leak).\n",
      "Warning in <TROOT::Append>: Replacing existing TH1: data (Potential memory leak).\n"
     ]
    },
    {
     "data": {
      "image/png": "[encoded data removed]",
      "text/plain": [
       "<IPython.core.display.Image object>"
      ]
     },
     "metadata": {},
     "output_type": "display_data"
    }
   ],
   "source": [
    "xframe = missingEnergyOfEventCMS.frame(r.RooFit.Title(\"Composite fit, pdf = sig + bkg\"))\n",
    "rds.plotOn(xframe, r.RooFit.Name(\"data\"))\n",
    "#rds_sig.plotOn(xframe, r.RooFit.LineColor(r.kRed))\n",
    "\n",
    "model.plotOn(xframe, r.RooFit.Name(\"fit\"))\n",
    "ras_bkg = r.RooArgSet(bkg_sum)\n",
    "ras_sig = r.RooArgSet(sig_sum)\n",
    "model.plotOn(\n",
    "    xframe,\n",
    "    r.RooFit.Components(ras_bkg),\n",
    "    r.RooFit.LineStyle(r.kDashed),\n",
    "    r.RooFit.LineColor(r.kBlack),\n",
    "    r.RooFit.Name(\"bkg\")\n",
    ")\n",
    "model.plotOn(\n",
    "    xframe,\n",
    "    r.RooFit.Components(ras_sig),\n",
    "    r.RooFit.LineStyle(r.kDashed),\n",
    "    r.RooFit.LineColor(r.kRed),\n",
    "    r.RooFit.Name(\"sig\")\n",
    ")\n",
    "xframe.Draw()\n",
    "\n",
    "legend = r.TLegend(0.75, 0.7, 0.9, 0.85)\n",
    "legend.SetBorderSize(0)\n",
    "legend.AddEntry(\"data\", \"Data\", \"PE\")\n",
    "legend.AddEntry(\"fit\", \"fit\", \"L\")\n",
    "legend.AddEntry(\"bkg\", \"Bkg\", \"L\")\n",
    "legend.AddEntry(\"sig\", \"Signal\", \"L\")\n",
    "legend.Draw()\n",
    "\n",
    "c.Draw()"
   ]
  },
  {
   "cell_type": "code",
   "execution_count": 26,
   "id": "dd5328bd",
   "metadata": {},
   "outputs": [
    {
     "data": {
      "text/plain": [
       "<ROOT.RooPlot object (\"frame_Bsig_d0_missingEnergyOfEventCMS_6ac2840\") at 0x6ac2840>"
      ]
     },
     "execution_count": 26,
     "metadata": {},
     "output_type": "execute_result"
    },
    {
     "name": "stdout",
     "output_type": "stream",
     "text": [
      "[#1] INFO:NumericIntegration -- RooRealIntegral::init(landau_bkg_Int[Bsig_d0_missingEnergyOfEventCMS]) using numeric integrator RooIntegrator1D to calculate Int(Bsig_d0_missingEnergyOfEventCMS)\n"
     ]
    }
   ],
   "source": [
    "frame1 = missingEnergyOfEventCMS.frame(r.RooFit.Title(\"Data with fitted pdf\"), r.RooFit.Bins(40))\n",
    "rds.plotOn(frame1, r.RooFit.DataError(r.RooAbsData.SumW2))\n",
    "model.plotOn(frame1)"
   ]
  },
  {
   "cell_type": "code",
   "execution_count": 27,
   "id": "d5cb6ea0",
   "metadata": {},
   "outputs": [
    {
     "name": "stdout",
     "output_type": "stream",
     "text": [
      "[#0] WARNING:Plotting -- RooHist::makeResisHist(h_data) WARNING: point 0 has zero error, setting residual to zero\n",
      "[#0] WARNING:Plotting -- RooHist::makeResisHist(h_data) WARNING: point 1 has zero error, setting residual to zero\n",
      "[#0] WARNING:Plotting -- RooHist::makeResisHist(h_data) WARNING: point 2 has zero error, setting residual to zero\n",
      "[#0] WARNING:Plotting -- RooHist::makeResisHist(h_data) WARNING: point 3 has zero error, setting residual to zero\n",
      "[#0] WARNING:Plotting -- RooHist::makeResisHist(h_data) WARNING: point 4 has zero error, setting residual to zero\n",
      "[#0] WARNING:Plotting -- RooHist::makeResisHist(h_data) WARNING: point 5 has zero error, setting residual to zero\n"
     ]
    }
   ],
   "source": [
    "hpull = frame1.pullHist()"
   ]
  },
  {
   "cell_type": "code",
   "execution_count": 28,
   "id": "c02ed04b",
   "metadata": {},
   "outputs": [],
   "source": [
    "hresid = frame1.residHist()"
   ]
  },
  {
   "cell_type": "code",
   "execution_count": 29,
   "id": "272b8f07",
   "metadata": {},
   "outputs": [],
   "source": [
    "#frame2 = missingEnergyOfEventCMS.frame(r.RooFit.Title=\"Residual Distribution\")\n",
    "#frame2.addPlotable(hresid, \"P\")\n",
    "frame4 = missingEnergyOfEventCMS.frame(r.RooFit.Title(\"Residual Distribution\"))\n",
    "frame4.addPlotable(hresid, \"P\")"
   ]
  },
  {
   "cell_type": "code",
   "execution_count": 30,
   "id": "83e40ec8",
   "metadata": {},
   "outputs": [],
   "source": [
    "frame3 = missingEnergyOfEventCMS.frame(r.RooFit.Title(\"Pull Distribution\"))\n",
    "frame3.addPlotable(hpull, \"P\")\n"
   ]
  },
  {
   "cell_type": "code",
   "execution_count": 31,
   "id": "7c3c92c9",
   "metadata": {},
   "outputs": [
    {
     "name": "stderr",
     "output_type": "stream",
     "text": [
      "Info in <TCanvas::Print>: png file missingEnergyOfEventCMS_pull.png has been created\n"
     ]
    }
   ],
   "source": [
    "c = r.TCanvas(\"rf109_chi2residpull\", \"rf109_chi2residpull\", 900, 300)\n",
    "c.Divide(2)\n",
    "#c.cd(1)\n",
    "#r.gPad.SetLeftMargin(0.15)\n",
    "#frame1.GetYaxis().SetTitleOffset(1.6)\n",
    "#frame1.Draw()\n",
    "c.cd(1)\n",
    "r.gPad.SetLeftMargin(0.15)\n",
    "frame4.GetYaxis().SetTitleOffset(1.6)\n",
    "frame4.Draw()\n",
    "c.cd(2)\n",
    "r.gPad.SetLeftMargin(0.15)\n",
    "frame3.GetYaxis().SetTitleOffset(1.6)\n",
    "frame3.Draw()\n",
    "c.SaveAs(\"missingEnergyOfEventCMS_pull.png\")"
   ]
  },
  {
   "cell_type": "code",
   "execution_count": 34,
   "id": "e0ec3fb8",
   "metadata": {},
   "outputs": [
    {
     "name": "stdout",
     "output_type": "stream",
     "text": [
      "chi^2 =  7.234852533496843\n"
     ]
    }
   ],
   "source": [
    "print(\"chi^2 = \", frame1.chiSquare(4)) "
   ]
  },
  {
   "cell_type": "code",
   "execution_count": null,
   "id": "0fc80c0e",
   "metadata": {},
   "outputs": [],
   "source": []
  }
 ],
 "metadata": {
  "kernelspec": {
   "display_name": "Python 3 (Belle2)",
   "language": "python",
   "name": "python3"
  },
  "language_info": {
   "codemirror_mode": {
    "name": "ipython",
    "version": 3
   },
   "file_extension": ".py",
   "mimetype": "text/x-python",
   "name": "python",
   "nbconvert_exporter": "python",
   "pygments_lexer": "ipython3",
   "version": "3.6.10"
  },
  "toc": {
   "base_numbering": 1,
   "nav_menu": {},
   "number_sections": true,
   "sideBar": true,
   "skip_h1_title": false,
   "title_cell": "Table of Contents",
   "title_sidebar": "Contents",
   "toc_cell": false,
   "toc_position": {},
   "toc_section_display": true,
   "toc_window_display": false
  }
 },
 "nbformat": 4,
 "nbformat_minor": 5
}
